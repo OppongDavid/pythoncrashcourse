{
  "cells": [
    {
      "cell_type": "markdown",
      "metadata": {
        "id": "LcjHkGrbWEEZ"
      },
      "source": [
        "# Python Programming - Crash Course"
      ]
    },
    {
      "cell_type": "markdown",
      "metadata": {},
      "source": [
        "### David Oppong"
      ]
    },
    {
      "cell_type": "code",
      "execution_count": 2,
      "metadata": {},
      "outputs": [
        {
          "name": "stdout",
          "output_type": "stream",
          "text": [
            "David Oppong\n"
          ]
        }
      ],
      "source": [
        "print(\"David Oppong\")"
      ]
    },
    {
      "cell_type": "markdown",
      "metadata": {},
      "source": [
        "# Introduction to Python\n",
        "\n",
        "Python is a versatile and powerful programming language known for its simplicity and readability. It is widely used across various industries due to its extensive standard library, active community, and support for multiple programming paradigms, including procedural, object-oriented, and functional programming.\n",
        "\n",
        "History of Python\n",
        "*   **Creator:** Guido Van Rossum (Dutch Programmer)\n",
        "*   **First Release (1.0):**  February 1991\n",
        "*   **Origin:** Developed as a successor to the ABC language while Van Rossum was at Centrum Wiskunde & Informatica (CWI) in the Netherlands\n",
        "*   **Philosphy:** Emphasizes code readability (like English), simplicity, ease of learning, and open source.\n",
        "*   **Fun Fact:** Python is Named after the British comedy group *Monty Python* (of which Van was a fan), not the snake!\n",
        "\n",
        "Python's capabilities include:\n",
        "\n",
        "- **Web Development**: Frameworks like Django and Flask make it easy to build robust and scalable web applications.\n",
        "- **Data Science and Machine Learning**: Libraries such as Pandas, NumPy, and Scikit-learn enable data analysis, visualization, and predictive modeling.\n",
        "- **Automation and Scripting**: Python is often used for automating repetitive tasks and writing scripts for system administration.\n",
        "- **Scientific Computing**: Tools like SciPy and Matplotlib are widely used in scientific research and engineering.\n",
        "- **Game Development**: Libraries like Pygame allow developers to create 2D games quickly.\n",
        "- **Embedded Systems**: Python can be used in microcontroller programming with tools like MicroPython.\n",
        "- **Artificial Intelligence**: Frameworks like TensorFlow and PyTorch are popular for AI and deep learning applications.\n",
        "\n",
        "Python is applied in industries such as:\n",
        "\n",
        "- **Finance**: For algorithmic trading, risk management, and financial modeling.\n",
        "- **Healthcare**: In bioinformatics, medical imaging, and patient data analysis.\n",
        "- **Education**: As a teaching tool for programming and computational thinking.\n",
        "- **Entertainment**: For animation, video editing, and game development.\n",
        "- **Retail**: In recommendation systems, inventory management, and customer analytics.\n",
        "\n",
        "Its ease of use and wide range of applications make Python a go-to language for beginners and professionals alike."
      ]
    },
    {
      "cell_type": "markdown",
      "metadata": {
        "id": "H03zXAqYWEEb"
      },
      "source": [
        "<!-- ## Python program files -->"
      ]
    },
    {
      "cell_type": "markdown",
      "metadata": {
        "id": "lJJS6EKuWEEb"
      },
      "source": [
        "* Python code is usually stored in text files with the file ending \"`.py`\":\n",
        "\n",
        "        myprogram.py\n",
        "\n",
        "* Every line in a Python program file is assumed to be a Python statement, or part thereof.\n",
        "\n",
        "    * The only exception is comment lines, which start with the character `#` (optionally preceded by an arbitrary number of white-space characters, i.e., tabs or spaces). Comment lines are usually ignored by the Python interpreter.\n",
        "\n",
        "\n",
        "* To run our Python program from the command line we use:\n",
        "\n",
        "        $ python myprogram.py\n",
        "\n",
        "* On UNIX systems it is common to define the path to the interpreter on the first line of the program (note that this is a comment line as far as the Python interpreter is concerned):\n",
        "\n",
        "        #!/usr/bin/env python\n",
        "\n",
        "  If we do, and if we additionally set the file script to be executable, we can run the program like this:\n",
        "\n",
        "        $ myprogram.py"
      ]
    },
    {
      "cell_type": "markdown",
      "metadata": {
        "id": "OshPa6UsWEEc"
      },
      "source": [
        "### Example:"
      ]
    },
    {
      "cell_type": "code",
      "execution_count": null,
      "metadata": {
        "id": "QS5v28bDWEEc",
        "outputId": "211cc726-741f-45c4-d0b9-bc2b58c7139f"
      },
      "outputs": [
        {
          "name": "stderr",
          "output_type": "stream",
          "text": [
            "'ls' is not recognized as an internal or external command,\n",
            "operable program or batch file.\n"
          ]
        }
      ],
      "source": [
        "!ls scripts/hello-world*.py"
      ]
    },
    {
      "cell_type": "code",
      "execution_count": null,
      "metadata": {
        "id": "CfPtcBzbWEEd",
        "outputId": "7508dd26-41ae-4beb-ff6f-81090fb69012"
      },
      "outputs": [
        {
          "name": "stderr",
          "output_type": "stream",
          "text": [
            "UsageError: Cell magic `%%` not found.\n"
          ]
        }
      ],
      "source": [
        "!cat scripts/hello-world.py"
      ]
    },
    {
      "cell_type": "code",
      "execution_count": null,
      "metadata": {
        "id": "goIBAel7WEEe",
        "outputId": "fbc3d304-108b-42d7-a927-4defb9752ff3"
      },
      "outputs": [
        {
          "name": "stdout",
          "output_type": "stream",
          "text": [
            "Hello pharmacy!!!!\n"
          ]
        }
      ],
      "source": [
        "!python scripts/hello-world.py"
      ]
    },
    {
      "cell_type": "markdown",
      "metadata": {
        "id": "jsXD7JOPWEEg"
      },
      "source": [
        "## Modules"
      ]
    },
    {
      "cell_type": "markdown",
      "metadata": {
        "id": "uC768_InWEEg"
      },
      "source": [
        "Most of the functionality in Python is provided by *modules*. The Python Standard Library is a large collection of modules that provides *cross-platform* implementations of common facilities such as access to the operating system, file I/O, string management, network communication, and much more."
      ]
    },
    {
      "cell_type": "markdown",
      "metadata": {
        "id": "DSY_8sGbWEEg"
      },
      "source": [
        "### References"
      ]
    },
    {
      "cell_type": "markdown",
      "metadata": {
        "id": "rmMKddiMWEEg"
      },
      "source": [
        " * The Python Language Reference: http://docs.python.org/3/reference/index.html\n",
        " * The Python Standard Library: http://docs.python.org/3/library/\n",
        "\n",
        "To use a module in a Python program it first has to be imported. A module can be imported using the `import` statement. For example, to import the module `math`, which contains many standard mathematical functions, we can do:"
      ]
    },
    {
      "cell_type": "code",
      "execution_count": null,
      "metadata": {
        "id": "S4pnHyPmWEEg"
      },
      "outputs": [],
      "source": [
        "import math"
      ]
    },
    {
      "cell_type": "markdown",
      "metadata": {
        "id": "MRClEX7FWEEg"
      },
      "source": [
        "This includes the whole module and makes it available for use later in the program. For example, we can do:"
      ]
    },
    {
      "cell_type": "code",
      "execution_count": null,
      "metadata": {
        "id": "GhyuREPmWEEg",
        "outputId": "15b92f47-4bda-40f4-c4a6-191f96868a48"
      },
      "outputs": [
        {
          "name": "stdout",
          "output_type": "stream",
          "text": [
            "1.0\n"
          ]
        }
      ],
      "source": [
        "import math\n",
        "\n",
        "x = math.cos(2 * math.pi)\n",
        "\n",
        "print(x)"
      ]
    },
    {
      "cell_type": "markdown",
      "metadata": {
        "id": "tYtXB97hWEEh"
      },
      "source": [
        "Alternatively, we can choose to import all symbols (functions and variables) in a module to the current namespace so that we don't need to use the prefix \"`math.`\" every time we use something from the `math` module:"
      ]
    },
    {
      "cell_type": "code",
      "execution_count": null,
      "metadata": {
        "id": "B8r36ALJWEEh",
        "outputId": "c102005c-8f77-448f-b7e9-19dc1d3decbf"
      },
      "outputs": [
        {
          "name": "stdout",
          "output_type": "stream",
          "text": [
            "1.0\n"
          ]
        }
      ],
      "source": [
        "from math import *\n",
        "\n",
        "x = cos(2 * pi)\n",
        "\n",
        "print(x)"
      ]
    },
    {
      "cell_type": "markdown",
      "metadata": {
        "id": "Oni3lVq8WEEh"
      },
      "source": [
        "This pattern can be very convenient, but in large programs that include many modules it is often a good idea to keep the symbols from each module in their own namespaces, by using the `import math` pattern. This would eliminate potentially confusing problems with name space collisions.\n",
        "\n",
        "As a third alternative, we can choose to import only a few selected symbols from a module by explicitly listing which ones we want to import instead of using the wildcard character `*`:"
      ]
    },
    {
      "cell_type": "code",
      "execution_count": null,
      "metadata": {
        "id": "zFUrJGPcWEEh",
        "outputId": "928c7d03-1b92-4cd8-8d00-cbbdbb54df05"
      },
      "outputs": [
        {
          "name": "stdout",
          "output_type": "stream",
          "text": [
            "1.0\n"
          ]
        }
      ],
      "source": [
        "from math import cos, pi\n",
        "\n",
        "x = cos(2 * pi)\n",
        "\n",
        "print(x)"
      ]
    },
    {
      "cell_type": "markdown",
      "metadata": {
        "id": "OvrrUNCpWEEi"
      },
      "source": [
        "We can also use the `help` function directly on modules: Try\n",
        "\n",
        "    help(math)\n",
        "\n",
        "Some very useful modules form the Python standard library are `os`, `sys`, `math`, `shutil`, `re`, `subprocess`, `multiprocessing`, `threading`.\n",
        "\n",
        "A complete lists of standard modules for Python 2 and Python 3 are available at http://docs.python.org/2/library/ and http://docs.python.org/3/library/, respectively."
      ]
    },
    {
      "cell_type": "markdown",
      "metadata": {
        "id": "TlRDGqfpWEEj"
      },
      "source": [
        "## Variables and types"
      ]
    },
    {
      "attachments": {
        "image.png": {
          "image/png": "[encoded data removed]"
        }
      },
      "cell_type": "markdown",
      "metadata": {},
      "source": [
        "![image.png](attachment:image.png)"
      ]
    },
    {
      "cell_type": "markdown",
      "metadata": {
        "id": "MhO9T2g5WEEj"
      },
      "source": [
        "### Symbol names"
      ]
    },
    {
      "cell_type": "markdown",
      "metadata": {
        "id": "a4slS-lAWEEj"
      },
      "source": [
        "Variable names in Python can contain alphanumerical characters `a-z`, `A-Z`, `0-9` and some special characters such as `_`. Normal variable names must start with a letter.\n",
        "\n",
        "By convention, variable names start with a lower-case letter, and Class names start with a capital letter.\n",
        "\n",
        "In addition, there are a number of Python keywords that cannot be used as variable names. These keywords are:\n",
        "\n",
        "    and, as, assert, break, class, continue, def, del, elif, else, except,\n",
        "    exec, finally, for, from, global, if, import, in, is, lambda, not, or,\n",
        "    pass, print, raise, return, try, while, with, yield\n",
        "\n",
        "Note: Be aware of the keyword `lambda`, which could easily be a natural variable name in a scientific program. But being a keyword, it cannot be used as a variable name."
      ]
    },
    {
      "cell_type": "markdown",
      "metadata": {
        "id": "kHVqzr16WEEj"
      },
      "source": [
        "### Assignment"
      ]
    },
    {
      "cell_type": "markdown",
      "metadata": {
        "id": "thNEJ4nHWEEj"
      },
      "source": [
        "\n",
        "\n",
        "The assignment operator in Python is `=`. Python is a dynamically typed language, so we do not need to specify the type of a variable when we create one.\n",
        "\n",
        "Assigning a value to a new variable creates the variable:"
      ]
    },
    {
      "cell_type": "code",
      "execution_count": 8,
      "metadata": {
        "id": "z1MR-qqxWEEn"
      },
      "outputs": [],
      "source": [
        "# variable assignments\n",
        "x = 1.0\n",
        "my_variable = 12.2 # snake_case\n",
        "myVariable = 12.2 # camelCase"
      ]
    },
    {
      "cell_type": "markdown",
      "metadata": {
        "id": "Xs-VooBVWEEn"
      },
      "source": [
        "Although not explicitly specified, a variable does have a type associated with it. The type is derived from the value that was assigned to it."
      ]
    },
    {
      "cell_type": "code",
      "execution_count": 9,
      "metadata": {
        "id": "vvTR0xP2WEEn",
        "outputId": "57fc0e40-c18e-4fb1-b52a-f47c98c52f0c"
      },
      "outputs": [
        {
          "data": {
            "text/plain": [
              "float"
            ]
          },
          "execution_count": 9,
          "metadata": {},
          "output_type": "execute_result"
        }
      ],
      "source": [
        "type(x)"
      ]
    },
    {
      "cell_type": "markdown",
      "metadata": {
        "id": "FAzl_zpLWEEo"
      },
      "source": [
        "If we assign a new value to a variable, its type can change."
      ]
    },
    {
      "cell_type": "code",
      "execution_count": null,
      "metadata": {
        "id": "ikQIfTwLWEEo"
      },
      "outputs": [],
      "source": [
        "x = 1"
      ]
    },
    {
      "cell_type": "code",
      "execution_count": null,
      "metadata": {
        "id": "Lj3H5xJBWEEo",
        "outputId": "4905df05-0dbd-40af-ba74-76d57f28b31b"
      },
      "outputs": [
        {
          "data": {
            "text/plain": [
              "int"
            ]
          },
          "execution_count": 17,
          "metadata": {},
          "output_type": "execute_result"
        }
      ],
      "source": [
        "type(x)"
      ]
    },
    {
      "cell_type": "markdown",
      "metadata": {
        "id": "ErgkxxVHWEEo"
      },
      "source": [
        "If we try to use a variable that has not yet been defined we get an `NameError`:"
      ]
    },
    {
      "cell_type": "code",
      "execution_count": null,
      "metadata": {
        "id": "44rLEJ-HWEEo",
        "outputId": "1fe1f273-6a04-4986-cdff-a7ae5fc9f476"
      },
      "outputs": [],
      "source": [
        "print(y)"
      ]
    },
    {
      "cell_type": "markdown",
      "metadata": {
        "id": "w4yDTqiAWEEo"
      },
      "source": [
        "### Fundamental Data types"
      ]
    },
    {
      "cell_type": "code",
      "execution_count": null,
      "metadata": {
        "id": "5cRMllTwWEEo",
        "outputId": "91aec8dd-c144-412c-ce46-06634bbd7a05"
      },
      "outputs": [
        {
          "data": {
            "text/plain": [
              "int"
            ]
          },
          "execution_count": 5,
          "metadata": {},
          "output_type": "execute_result"
        }
      ],
      "source": [
        "# integers\n",
        "x = 1\n",
        "type(x)"
      ]
    },
    {
      "cell_type": "code",
      "execution_count": null,
      "metadata": {
        "id": "xSnsF-aZWEEp",
        "outputId": "918fee76-774e-45bb-c9dd-e8a2c2b02760"
      },
      "outputs": [
        {
          "data": {
            "text/plain": [
              "float"
            ]
          },
          "execution_count": 6,
          "metadata": {},
          "output_type": "execute_result"
        }
      ],
      "source": [
        "# float\n",
        "x = 1.0\n",
        "type(x)"
      ]
    },
    {
      "cell_type": "code",
      "execution_count": null,
      "metadata": {
        "id": "olQQS5soWEEp",
        "outputId": "6fccd799-353c-4184-eca2-0863a1fbcc84"
      },
      "outputs": [
        {
          "data": {
            "text/plain": [
              "bool"
            ]
          },
          "execution_count": 7,
          "metadata": {},
          "output_type": "execute_result"
        }
      ],
      "source": [
        "# boolean\n",
        "b1 = True\n",
        "b2 = False\n",
        "\n",
        "type(b1)"
      ]
    },
    {
      "cell_type": "code",
      "execution_count": null,
      "metadata": {
        "id": "BYv5LIgTWEEp",
        "outputId": "ca8beacf-f0c8-4e13-bcfe-0030067fd09b"
      },
      "outputs": [
        {
          "data": {
            "text/plain": [
              "complex"
            ]
          },
          "execution_count": 8,
          "metadata": {},
          "output_type": "execute_result"
        }
      ],
      "source": [
        "# complex numbers: note the use of `j` to specify the imaginary part\n",
        "x = 1.0 - 1.0j\n",
        "type(x)"
      ]
    },
    {
      "cell_type": "code",
      "execution_count": null,
      "metadata": {
        "id": "xDreTy5RWEEq",
        "outputId": "191e3edd-670f-4bc1-b67c-5fa32c75b9ba"
      },
      "outputs": [
        {
          "name": "stdout",
          "output_type": "stream",
          "text": [
            "(1-1j)\n"
          ]
        }
      ],
      "source": [
        "print(x)"
      ]
    },
    {
      "cell_type": "code",
      "execution_count": null,
      "metadata": {
        "id": "U7V_u7b8WEEq",
        "outputId": "65a99464-bcd7-4e9c-9e6f-68f359671576"
      },
      "outputs": [
        {
          "name": "stdout",
          "output_type": "stream",
          "text": [
            "1.0 -1.0\n"
          ]
        }
      ],
      "source": [
        "print(x.real, x.imag)"
      ]
    },
    {
      "cell_type": "markdown",
      "metadata": {},
      "source": [
        "### **TASKS**"
      ]
    },
    {
      "cell_type": "markdown",
      "metadata": {},
      "source": [
        "Create Variables for your personal details: name, age, location, etc."
      ]
    },
    {
      "cell_type": "code",
      "execution_count": 25,
      "metadata": {},
      "outputs": [
        {
          "name": "stdout",
          "output_type": "stream",
          "text": [
            "South Suntreso\n"
          ]
        }
      ],
      "source": [
        "MyName = \"David Oppong\"\n",
        "Age = 26\n",
        "Location = \"South Suntreso\"\n",
        "print(Location)"
      ]
    },
    {
      "cell_type": "markdown",
      "metadata": {},
      "source": [
        "Display the information stored (use print satement)"
      ]
    },
    {
      "cell_type": "code",
      "execution_count": 34,
      "metadata": {},
      "outputs": [
        {
          "name": "stdout",
          "output_type": "stream",
          "text": [
            "David Oppong\n",
            "26\n",
            "South Suntreso\n"
          ]
        }
      ],
      "source": [
        "print(MyName)\n",
        "print(Age)\n",
        "print(Location)"
      ]
    },
    {
      "cell_type": "markdown",
      "metadata": {},
      "source": [
        "Change/convert your names from  lowercase to uppercase"
      ]
    },
    {
      "cell_type": "code",
      "execution_count": 38,
      "metadata": {},
      "outputs": [
        {
          "name": "stdout",
          "output_type": "stream",
          "text": [
            "DAVID OPPONG\n"
          ]
        }
      ],
      "source": [
        "print(MyName.upper())"
      ]
    },
    {
      "cell_type": "markdown",
      "metadata": {
        "id": "fHkkkX5sWEEq"
      },
      "source": [
        "### Type utility functions"
      ]
    },
    {
      "cell_type": "markdown",
      "metadata": {
        "id": "YxA08P0eWEEq"
      },
      "source": [
        "\n",
        "The module `types` contains a number of type name definitions that can be used to test if variables are of certain types:"
      ]
    },
    {
      "cell_type": "code",
      "execution_count": null,
      "metadata": {
        "id": "Ss7bxHaOWEEq",
        "outputId": "59a66e1a-a067-499c-c396-feaf9fd6c46d"
      },
      "outputs": [],
      "source": [
        "import types\n",
        "\n",
        "# print all types defined in the `types` module\n",
        "print(dir(types))"
      ]
    },
    {
      "cell_type": "code",
      "execution_count": null,
      "metadata": {
        "id": "rQlYtz3LWEEr",
        "outputId": "1b6a4985-5d7a-4c5f-96cb-3a4ae39cea21"
      },
      "outputs": [],
      "source": [
        "x = 1.0\n",
        "\n",
        "# check if the variable x is a float\n",
        "type(x) is float"
      ]
    },
    {
      "cell_type": "code",
      "execution_count": null,
      "metadata": {
        "id": "fjfNfMLuWEEr",
        "outputId": "2e0c3c31-029b-44fa-8c61-819ada74821a"
      },
      "outputs": [],
      "source": [
        "# check if the variable x is an int\n",
        "type(x) is int"
      ]
    },
    {
      "cell_type": "markdown",
      "metadata": {
        "id": "Jp35FUqTWEEr"
      },
      "source": [
        "We can also use the `isinstance` method for testing types of variables:"
      ]
    },
    {
      "cell_type": "code",
      "execution_count": null,
      "metadata": {
        "id": "WiJ_MGdcWEEr",
        "outputId": "f286e5dd-75ae-4aab-d471-6a5fe0ecdee6"
      },
      "outputs": [],
      "source": [
        "isinstance(x, float)"
      ]
    },
    {
      "cell_type": "markdown",
      "metadata": {
        "id": "eNZ9-nz6WEEs"
      },
      "source": [
        "### Type casting"
      ]
    },
    {
      "cell_type": "code",
      "execution_count": null,
      "metadata": {
        "id": "6PvsKEfQWEEs",
        "outputId": "f04b540d-6095-45d3-d497-fa3b0424f6b1"
      },
      "outputs": [
        {
          "name": "stdout",
          "output_type": "stream",
          "text": [
            "(1.5, <type 'float'>)\n"
          ]
        }
      ],
      "source": [
        "x = 1.5\n",
        "\n",
        "print(x, type(x))"
      ]
    },
    {
      "cell_type": "code",
      "execution_count": null,
      "metadata": {
        "id": "G1Et2x0JWEEs",
        "outputId": "59596e97-f7fa-4062-bfa0-8416dbe3a170"
      },
      "outputs": [
        {
          "name": "stdout",
          "output_type": "stream",
          "text": [
            "(1, <type 'int'>)\n"
          ]
        }
      ],
      "source": [
        "x = int(x)\n",
        "\n",
        "print(x, type(x))"
      ]
    },
    {
      "cell_type": "code",
      "execution_count": null,
      "metadata": {
        "id": "6wt2byUXWEEs",
        "outputId": "f19ff1a1-0bab-4d7f-d17d-bc664c6c8a5f"
      },
      "outputs": [
        {
          "name": "stdout",
          "output_type": "stream",
          "text": [
            "((1+0j), <type 'complex'>)\n"
          ]
        }
      ],
      "source": [
        "z = complex(x)\n",
        "\n",
        "print(z, type(z))"
      ]
    },
    {
      "cell_type": "code",
      "execution_count": null,
      "metadata": {
        "id": "1cKA22AzWEEs",
        "outputId": "6a6aaf15-1108-4dbd-eab3-495e909e4dc8"
      },
      "outputs": [],
      "source": [
        "x = float(z)"
      ]
    },
    {
      "cell_type": "markdown",
      "metadata": {
        "id": "4MqMAWjFWEEt"
      },
      "source": [
        "Complex variables cannot be cast to floats or integers. We need to use `z.real` or `z.imag` to extract the part of the complex number we want:"
      ]
    },
    {
      "cell_type": "code",
      "execution_count": null,
      "metadata": {
        "id": "5clQ37rvWEEt",
        "outputId": "d1e2ab27-fed5-43aa-eafc-5a6471de7aa3"
      },
      "outputs": [
        {
          "name": "stdout",
          "output_type": "stream",
          "text": [
            "(1.0, ' -> ', True, <type 'bool'>)\n",
            "(0.0, ' -> ', False, <type 'bool'>)\n"
          ]
        }
      ],
      "source": [
        "y = bool(z.real)\n",
        "\n",
        "print(z.real, \" -> \", y, type(y))\n",
        "\n",
        "y = bool(z.imag)\n",
        "\n",
        "print(z.imag, \" -> \", y, type(y))"
      ]
    },
    {
      "cell_type": "markdown",
      "metadata": {
        "id": "lybevC1XWEEt"
      },
      "source": [
        "## Operators and comparisons"
      ]
    },
    {
      "cell_type": "markdown",
      "metadata": {
        "id": "yTx5QUkEWEEt"
      },
      "source": [
        "Most operators and comparisons in Python work as one would expect:\n",
        "\n",
        "* Arithmetic operators\n",
        "\n",
        "| Operator | Action             |\n",
        "|----------|--------------------|\n",
        "| +        | Addition           |\n",
        "| -        | Subtraction        |\n",
        "| *        | Multiplication     |\n",
        "| /        | Division           |\n",
        "| **       | Exponential        |\n",
        "| %        | Modulo             |\n",
        "| //       | Integer Division (floor Division)   |\n",
        "\n"
      ]
    },
    {
      "cell_type": "code",
      "execution_count": null,
      "metadata": {},
      "outputs": [],
      "source": [
        "#addition\n",
        "x = 3\n",
        "y = 48\n",
        "\n",
        "z = x + y\n",
        "print(z)"
      ]
    },
    {
      "cell_type": "code",
      "execution_count": null,
      "metadata": {},
      "outputs": [],
      "source": [
        "# subtraction\n",
        "x = 45\n",
        "y = 30\n",
        "\n",
        "s = x - y\n",
        "print(s)"
      ]
    },
    {
      "cell_type": "code",
      "execution_count": null,
      "metadata": {},
      "outputs": [
        {
          "name": "stdout",
          "output_type": "stream",
          "text": [
            "1.5\n"
          ]
        }
      ],
      "source": [
        "# Division\n",
        "x = 45\n",
        "y = 30\n",
        "\n",
        "s = x / y\n",
        "print(s)"
      ]
    },
    {
      "cell_type": "code",
      "execution_count": 11,
      "metadata": {},
      "outputs": [
        {
          "name": "stdout",
          "output_type": "stream",
          "text": [
            "8\n"
          ]
        }
      ],
      "source": [
        "# exponntial\n",
        "x = 2\n",
        "y = 3\n",
        "\n",
        "z = x ** y\n",
        "print(z)"
      ]
    },
    {
      "cell_type": "code",
      "execution_count": null,
      "metadata": {},
      "outputs": [
        {
          "name": "stdout",
          "output_type": "stream",
          "text": [
            "0\n"
          ]
        }
      ],
      "source": [
        "# modulo\n",
        "a = 14\n",
        "b = 2\n",
        "c = a % b\n",
        "print(c)\n",
        "# c"
      ]
    },
    {
      "cell_type": "code",
      "execution_count": null,
      "metadata": {
        "id": "yF04FajlWEEt",
        "outputId": "ab53b80a-2c6a-444a-ca3f-23a009203d14"
      },
      "outputs": [
        {
          "data": {
            "text/plain": [
              "(3, -1, 2, 0)"
            ]
          },
          "execution_count": 34,
          "metadata": {},
          "output_type": "execute_result"
        }
      ],
      "source": [
        "1 + 2, 1 - 2, 1 * 2, 1 / 2"
      ]
    },
    {
      "cell_type": "code",
      "execution_count": null,
      "metadata": {
        "id": "dfuMd4OdWEEt",
        "outputId": "9f77d007-26a5-4a39-abf5-34cf1b94e4ac"
      },
      "outputs": [
        {
          "data": {
            "text/plain": [
              "(3.0, -1.0, 2.0, 0.5)"
            ]
          },
          "execution_count": 35,
          "metadata": {},
          "output_type": "execute_result"
        }
      ],
      "source": [
        "1.0 + 2.0, 1.0 - 2.0, 1.0 * 2.0, 1.0 / 2.0"
      ]
    },
    {
      "cell_type": "code",
      "execution_count": null,
      "metadata": {
        "id": "gKaW23bHWEEt",
        "outputId": "731ad164-b67a-49fc-e0e7-8547e80cf2f0"
      },
      "outputs": [
        {
          "data": {
            "text/plain": [
              "1.0"
            ]
          },
          "execution_count": 36,
          "metadata": {},
          "output_type": "execute_result"
        }
      ],
      "source": [
        "# Integer division of float numbers\n",
        "3.0 // 2.0"
      ]
    },
    {
      "cell_type": "code",
      "execution_count": null,
      "metadata": {
        "id": "_UIYbehHWEEu",
        "outputId": "e8627425-c12f-4e26-9ac0-eec8a04beaae"
      },
      "outputs": [
        {
          "data": {
            "text/plain": [
              "4"
            ]
          },
          "execution_count": 37,
          "metadata": {},
          "output_type": "execute_result"
        }
      ],
      "source": [
        "# Note! The power operators in python isn't ^, but **\n",
        "2 ** 2"
      ]
    },
    {
      "cell_type": "code",
      "execution_count": null,
      "metadata": {},
      "outputs": [
        {
          "name": "stdout",
          "output_type": "stream",
          "text": [
            "0\n"
          ]
        }
      ],
      "source": [
        "# modulo\n",
        "a = 14\n",
        "b = 2\n",
        "c = a % b\n",
        "print(c)\n",
        "# c"
      ]
    },
    {
      "cell_type": "markdown",
      "metadata": {},
      "source": [
        "### **Tasks**  \n"
      ]
    },
    {
      "cell_type": "markdown",
      "metadata": {},
      "source": [
        "Convert your age into months"
      ]
    },
    {
      "cell_type": "code",
      "execution_count": 13,
      "metadata": {},
      "outputs": [
        {
          "name": "stdout",
          "output_type": "stream",
          "text": [
            "324\n"
          ]
        }
      ],
      "source": [
        "Age = 27\n",
        "AgeMonths = Age * 12\n",
        "print(AgeMonths)"
      ]
    },
    {
      "cell_type": "markdown",
      "metadata": {},
      "source": [
        "Convert your height to another unit."
      ]
    },
    {
      "cell_type": "code",
      "execution_count": 27,
      "metadata": {},
      "outputs": [
        {
          "name": "stdout",
          "output_type": "stream",
          "text": [
            "1.65\n"
          ]
        }
      ],
      "source": [
        "heightcm = 165\n",
        "heightm = heightcm / 100\n",
        "print(heightm)"
      ]
    },
    {
      "cell_type": "markdown",
      "metadata": {},
      "source": [
        "Write a line of code that computes and prints out the result of  \n",
        "$$\\frac{23 \\times 12 }{33 \\times 144 - 187}$$"
      ]
    },
    {
      "cell_type": "code",
      "execution_count": 28,
      "metadata": {},
      "outputs": [
        {
          "data": {
            "text/plain": [
              "0.06046002190580504"
            ]
          },
          "execution_count": 28,
          "metadata": {},
          "output_type": "execute_result"
        }
      ],
      "source": [
        "(23*12)/((33*144)-187)"
      ]
    },
    {
      "cell_type": "markdown",
      "metadata": {},
      "source": [
        "\n",
        "If there are 12 inches in one foot, convert a height of 40 inches into foot."
      ]
    },
    {
      "cell_type": "code",
      "execution_count": 29,
      "metadata": {},
      "outputs": [
        {
          "name": "stdout",
          "output_type": "stream",
          "text": [
            "3.3333333333333335\n"
          ]
        }
      ],
      "source": [
        "inches = 40\n",
        "x = 12\n",
        "feet = inches / x\n",
        "print(feet)"
      ]
    },
    {
      "cell_type": "markdown",
      "metadata": {
        "id": "QA8R_cXfWEEu"
      },
      "source": [
        "Note: The `/` operator always performs a floating point division in Python 3.x.\n",
        "This is not true in Python 2.x, where the result of `/` is always an integer if the operands are integers.\n",
        "to be more specific, `1/2 = 0.5` (`float`) in Python 3.x, and `1/2 = 0` (`int`) in Python 2.x (but `1.0/2 = 0.5` in Python 2.x)."
      ]
    },
    {
      "cell_type": "markdown",
      "metadata": {
        "id": "mohuyGurWEEu"
      },
      "source": [
        "* The boolean operators are spelled out as the words `and`, `not`, `or`."
      ]
    },
    {
      "cell_type": "code",
      "execution_count": null,
      "metadata": {
        "id": "2BMa0Bv2WEEu",
        "outputId": "ffcd651a-d84c-41f9-8235-690587bf05d4"
      },
      "outputs": [
        {
          "data": {
            "text/plain": [
              "False"
            ]
          },
          "execution_count": 38,
          "metadata": {},
          "output_type": "execute_result"
        }
      ],
      "source": [
        "True and False"
      ]
    },
    {
      "cell_type": "code",
      "execution_count": null,
      "metadata": {
        "id": "y6y2n60MWEEv",
        "outputId": "214ecbd0-ce59-4959-916d-ca1c8c5cc275"
      },
      "outputs": [
        {
          "data": {
            "text/plain": [
              "True"
            ]
          },
          "execution_count": 39,
          "metadata": {},
          "output_type": "execute_result"
        }
      ],
      "source": [
        "not False"
      ]
    },
    {
      "cell_type": "code",
      "execution_count": null,
      "metadata": {
        "id": "cfoDGf2SWEEv",
        "outputId": "c43450ad-2ac4-42cc-cabf-a97ca83aadca"
      },
      "outputs": [
        {
          "data": {
            "text/plain": [
              "True"
            ]
          },
          "execution_count": 40,
          "metadata": {},
          "output_type": "execute_result"
        }
      ],
      "source": [
        "True or False"
      ]
    },
    {
      "cell_type": "markdown",
      "metadata": {
        "id": "RRePsRH0WEEv"
      },
      "source": [
        "* Comparison operators `>`, `<`, `>=` (greater or equal), `<=` (less or equal), `==` equality, `is` identical."
      ]
    },
    {
      "cell_type": "code",
      "execution_count": null,
      "metadata": {
        "id": "wUe3HcLaWEEv",
        "outputId": "5d956cb6-f11d-40cb-ff37-68ae6820eebf"
      },
      "outputs": [
        {
          "data": {
            "text/plain": [
              "(True, False)"
            ]
          },
          "execution_count": 41,
          "metadata": {},
          "output_type": "execute_result"
        }
      ],
      "source": [
        "2 > 1, 2 < 1"
      ]
    },
    {
      "cell_type": "code",
      "execution_count": null,
      "metadata": {
        "id": "4YUZ_MNcWEEv",
        "outputId": "b524acdb-fdc1-4056-f756-d45f5b5ac4a1"
      },
      "outputs": [
        {
          "data": {
            "text/plain": [
              "(False, False)"
            ]
          },
          "execution_count": 42,
          "metadata": {},
          "output_type": "execute_result"
        }
      ],
      "source": [
        "2 > 2, 2 < 2"
      ]
    },
    {
      "cell_type": "code",
      "execution_count": null,
      "metadata": {
        "id": "nkPnEQBXWEEv",
        "outputId": "9c9a9c7a-803a-452b-b3e5-fb2085cb121f"
      },
      "outputs": [
        {
          "data": {
            "text/plain": [
              "(True, True)"
            ]
          },
          "execution_count": 43,
          "metadata": {},
          "output_type": "execute_result"
        }
      ],
      "source": [
        "2 >= 2, 2 <= 2"
      ]
    },
    {
      "cell_type": "code",
      "execution_count": 31,
      "metadata": {
        "id": "GgfNNp1lWEEw",
        "outputId": "00260d67-1140-4020-d780-827c87616667"
      },
      "outputs": [
        {
          "data": {
            "text/plain": [
              "True"
            ]
          },
          "execution_count": 31,
          "metadata": {},
          "output_type": "execute_result"
        }
      ],
      "source": [
        "# equality\n",
        "[1,2] == [1,2]"
      ]
    },
    {
      "cell_type": "code",
      "execution_count": null,
      "metadata": {
        "id": "T46UTR4tWEEw",
        "outputId": "75c50681-e15c-4399-ac22-341da05e2a9a"
      },
      "outputs": [
        {
          "data": {
            "text/plain": [
              "True"
            ]
          },
          "execution_count": 45,
          "metadata": {},
          "output_type": "execute_result"
        }
      ],
      "source": [
        "# objects identical?\n",
        "l1 = l2 = [1,2]\n",
        "\n",
        "l1 is l2"
      ]
    },
    {
      "cell_type": "markdown",
      "metadata": {
        "id": "U9zsjkraWEEw"
      },
      "source": [
        "## Compound types: Strings, List and dictionaries"
      ]
    },
    {
      "cell_type": "markdown",
      "metadata": {
        "id": "rL3ZS2uUWEEw"
      },
      "source": [
        "### Strings"
      ]
    },
    {
      "cell_type": "markdown",
      "metadata": {
        "id": "vN8kqPSaWEEx"
      },
      "source": [
        "Strings are the variable type that is used for storing text messages."
      ]
    },
    {
      "cell_type": "code",
      "execution_count": null,
      "metadata": {
        "id": "7r6eqI-0WEEx",
        "outputId": "b0a04906-240c-452c-c713-aee4d8ae5f87"
      },
      "outputs": [
        {
          "data": {
            "text/plain": [
              "str"
            ]
          },
          "execution_count": 46,
          "metadata": {},
          "output_type": "execute_result"
        }
      ],
      "source": [
        "s = \"Hello world\"\n",
        "type(s)"
      ]
    },
    {
      "cell_type": "code",
      "execution_count": null,
      "metadata": {
        "id": "swDJNs9gWEEx",
        "outputId": "156de97b-2cce-46b0-c3bd-4b7c52161b6d"
      },
      "outputs": [
        {
          "data": {
            "text/plain": [
              "11"
            ]
          },
          "execution_count": 47,
          "metadata": {},
          "output_type": "execute_result"
        }
      ],
      "source": [
        "# length of the string: the number of characters\n",
        "len(s)"
      ]
    },
    {
      "cell_type": "code",
      "execution_count": null,
      "metadata": {
        "id": "_wB3NBTEWEEx",
        "outputId": "8233e66d-813e-48ad-e4db-fa76ec3dad8b"
      },
      "outputs": [
        {
          "name": "stdout",
          "output_type": "stream",
          "text": [
            "Hello test\n"
          ]
        }
      ],
      "source": [
        "# replace a substring in a string with something else\n",
        "s2 = s.replace(\"world\", \"test\")\n",
        "print(s2)"
      ]
    },
    {
      "cell_type": "markdown",
      "metadata": {
        "id": "KAIDFAi0WEEx"
      },
      "source": [
        "We can index a character in a string using `[]`:"
      ]
    },
    {
      "attachments": {
        "image.png": {
          "image/png": "[encoded data removed]"
        }
      },
      "cell_type": "markdown",
      "metadata": {},
      "source": [
        "![image.png](attachment:image.png)"
      ]
    },
    {
      "cell_type": "code",
      "execution_count": null,
      "metadata": {
        "id": "wemXY7vnWEEx",
        "outputId": "c958ffd8-569a-469b-9796-5a1af62aca72"
      },
      "outputs": [
        {
          "data": {
            "text/plain": [
              "'H'"
            ]
          },
          "execution_count": 49,
          "metadata": {},
          "output_type": "execute_result"
        }
      ],
      "source": [
        "s[0]"
      ]
    },
    {
      "cell_type": "code",
      "execution_count": null,
      "metadata": {
        "id": "HcYVlt3-WEEx",
        "outputId": "deddbfd3-c9dc-402a-89e6-b88a5b08a654"
      },
      "outputs": [
        {
          "data": {
            "text/plain": [
              "'Hello'"
            ]
          },
          "execution_count": 50,
          "metadata": {},
          "output_type": "execute_result"
        }
      ],
      "source": [
        "s[0:5]"
      ]
    },
    {
      "cell_type": "code",
      "execution_count": null,
      "metadata": {
        "id": "VRe9ggV-WEEy",
        "outputId": "43f0d5e9-ba7d-4ea2-f2f5-65905e08f037"
      },
      "outputs": [
        {
          "data": {
            "text/plain": [
              "'o'"
            ]
          },
          "execution_count": 51,
          "metadata": {},
          "output_type": "execute_result"
        }
      ],
      "source": [
        "s[4:5]"
      ]
    },
    {
      "cell_type": "markdown",
      "metadata": {
        "id": "IESOiQ0lWEEy"
      },
      "source": [
        "If we omit either (or both) of `start` or `stop` from `[start:stop]`, the default is the beginning and the end of the string, respectively:"
      ]
    },
    {
      "cell_type": "code",
      "execution_count": null,
      "metadata": {
        "id": "Iu10ZYvmWEEy",
        "outputId": "1edba66b-8932-4530-89c0-f40ab7cc2f27"
      },
      "outputs": [
        {
          "data": {
            "text/plain": [
              "'Hello'"
            ]
          },
          "execution_count": 52,
          "metadata": {},
          "output_type": "execute_result"
        }
      ],
      "source": [
        "s[:5]"
      ]
    },
    {
      "cell_type": "code",
      "execution_count": null,
      "metadata": {
        "id": "E_XM_C2WWEEy",
        "outputId": "aa45d62a-f343-4415-9f8e-1214f46a9b5a"
      },
      "outputs": [
        {
          "data": {
            "text/plain": [
              "'world'"
            ]
          },
          "execution_count": 53,
          "metadata": {},
          "output_type": "execute_result"
        }
      ],
      "source": [
        "s[6:]"
      ]
    },
    {
      "cell_type": "code",
      "execution_count": null,
      "metadata": {
        "id": "y8GSVvfeWEEy",
        "outputId": "3a2e180e-8e52-4564-b934-e5ddaa9ebbfa"
      },
      "outputs": [
        {
          "data": {
            "text/plain": [
              "'Hello world'"
            ]
          },
          "execution_count": 54,
          "metadata": {},
          "output_type": "execute_result"
        }
      ],
      "source": [
        "s[:]"
      ]
    },
    {
      "cell_type": "markdown",
      "metadata": {
        "id": "r3q6gPx9WEEy"
      },
      "source": [
        "We can also define the step size using the syntax `[start:end:step]` (the default value for `step` is 1, as we saw above):"
      ]
    },
    {
      "cell_type": "code",
      "execution_count": null,
      "metadata": {
        "id": "wu26y1b7WEEy",
        "outputId": "20702663-d3c5-4322-ec1f-83291c4c96c5"
      },
      "outputs": [
        {
          "data": {
            "text/plain": [
              "'Hello world'"
            ]
          },
          "execution_count": 55,
          "metadata": {},
          "output_type": "execute_result"
        }
      ],
      "source": [
        "s[::1]"
      ]
    },
    {
      "cell_type": "code",
      "execution_count": null,
      "metadata": {
        "id": "hI1mUxk0WEEz",
        "outputId": "497d7534-0611-4972-daa7-410e5f3a1053"
      },
      "outputs": [
        {
          "data": {
            "text/plain": [
              "'Hlowrd'"
            ]
          },
          "execution_count": 56,
          "metadata": {},
          "output_type": "execute_result"
        }
      ],
      "source": [
        "s[::2]"
      ]
    },
    {
      "cell_type": "markdown",
      "metadata": {
        "id": "5JvU7YUGWEEz"
      },
      "source": [
        "This technique is called *slicing*. Read more about the syntax here: http://docs.python.org/release/2.7.3/library/functions.html?highlight=slice#slice"
      ]
    },
    {
      "cell_type": "markdown",
      "metadata": {
        "id": "U3BkXM_NWEEz"
      },
      "source": [
        "Python has a very rich set of functions for text processing. See for example http://docs.python.org/2/library/string.html for more information."
      ]
    },
    {
      "cell_type": "markdown",
      "metadata": {
        "id": "MNH1gUkLWEEz"
      },
      "source": [
        "#### String formatting examples"
      ]
    },
    {
      "cell_type": "code",
      "execution_count": null,
      "metadata": {
        "id": "MIMxrW9zWEEz",
        "outputId": "a35f907a-4d2e-4bf2-e225-1760f285b4f7"
      },
      "outputs": [
        {
          "name": "stdout",
          "output_type": "stream",
          "text": [
            "('str1', 'str2', 'str3')\n"
          ]
        }
      ],
      "source": [
        "print(\"str1\", \"str2\", \"str3\")  # The print statement concatenates strings with a space"
      ]
    },
    {
      "cell_type": "code",
      "execution_count": null,
      "metadata": {},
      "outputs": [],
      "source": [
        "name = \"Kofi Kinaata\"\n",
        "greeting = \"Welcome to python programming!\"\n",
        "\n",
        "print(\"Hello!\" + \" \" + name + \" \" + greeting)\n",
        "\n",
        "# name = \"Kofi\"\n",
        "# message = \"Welcome to python programming!\"\n",
        "# greet = name + \" \" + message\n",
        "# print(greet)"
      ]
    },
    {
      "cell_type": "code",
      "execution_count": null,
      "metadata": {
        "id": "sj7hoAbBWEE0",
        "outputId": "2fa7944a-b10b-40b3-f57f-ccbf816a65a4"
      },
      "outputs": [
        {
          "name": "stdout",
          "output_type": "stream",
          "text": [
            "str1str2str3\n"
          ]
        }
      ],
      "source": [
        "print(\"str1\" + \"str2\" + \"str3\") # strings added with + are concatenated without space"
      ]
    },
    {
      "cell_type": "code",
      "execution_count": null,
      "metadata": {
        "id": "h4JmX5cwWEEz",
        "outputId": "cca6168b-c750-4d63-d39e-dbedfb949dfa"
      },
      "outputs": [
        {
          "name": "stdout",
          "output_type": "stream",
          "text": [
            "('str1', 1.0, False, -1j)\n"
          ]
        }
      ],
      "source": [
        "print(\"str1\", 1.0, False, -1j)  # The print statements converts all arguments to strings"
      ]
    },
    {
      "cell_type": "markdown",
      "metadata": {},
      "source": [
        "### **f-Strings (Formatted Strings)**  \n",
        "\n",
        "_This is a more convenient way to handle string formatting.*_*"
      ]
    },
    {
      "cell_type": "code",
      "execution_count": null,
      "metadata": {},
      "outputs": [
        {
          "name": "stdout",
          "output_type": "stream",
          "text": [
            "Hello Jack Sparrow! \n",
            "You are a Pirate Captain of the Black Pearl!\n"
          ]
        }
      ],
      "source": [
        "first_name = \"Jack\"\n",
        "last_name = \"Sparrow\"\n",
        "occupation = \"Pirate Captain\"\n",
        "vessel = \"Black Pearl\"\n",
        "\n",
        "# display a greeting message\n",
        "print(f\"Hello {first_name} {last_name}! \\nYou are a {occupation} of the {vessel}!\")"
      ]
    },
    {
      "cell_type": "code",
      "execution_count": null,
      "metadata": {
        "id": "CJRO22qUWEE0",
        "outputId": "257dbc04-9f17-4d83-e196-73b6248cb847"
      },
      "outputs": [
        {
          "name": "stdout",
          "output_type": "stream",
          "text": [
            "value1 = 3.1415, value2 = 1.5\n"
          ]
        }
      ],
      "source": [
        "# more intuitive way of formatting a string\n",
        "s3 = 'value1 = {0}, value2 = {1}'.format(3.1415, 1.5)\n",
        "\n",
        "print(s3)"
      ]
    },
    {
      "cell_type": "code",
      "execution_count": null,
      "metadata": {
        "id": "gy6909O_WEE0",
        "outputId": "93f02e50-1da1-4bd5-8545-e9757e2e473f"
      },
      "outputs": [
        {
          "name": "stdout",
          "output_type": "stream",
          "text": [
            "value = 1.000000\n"
          ]
        }
      ],
      "source": [
        "print(\"value = %f\" % 1.0)       # we can use C-style string formatting"
      ]
    },
    {
      "cell_type": "code",
      "execution_count": null,
      "metadata": {
        "id": "ZjbQACTCWEE0",
        "outputId": "5afa1983-032e-49fe-b386-1b2054d4442f"
      },
      "outputs": [
        {
          "name": "stdout",
          "output_type": "stream",
          "text": [
            "value1 = 3.14. value2 = 1\n"
          ]
        }
      ],
      "source": [
        "# this formatting creates a string\n",
        "s2 = \"value1 = %.2f. value2 = %d\" % (3.1415, 1.5)\n",
        "\n",
        "print(s2)"
      ]
    },
    {
      "cell_type": "markdown",
      "metadata": {},
      "source": [
        "### **3.3 Common String Methods**\n"
      ]
    },
    {
      "cell_type": "code",
      "execution_count": null,
      "metadata": {},
      "outputs": [
        {
          "name": "stdout",
          "output_type": "stream",
          "text": [
            "WELCOME TO PYTHON PROGRAMMING!\n"
          ]
        }
      ],
      "source": [
        "# upper() method: converts to uppercase\n",
        "message = \"Welcome to python programming!\"\n",
        "print(message.upper())"
      ]
    },
    {
      "cell_type": "code",
      "execution_count": null,
      "metadata": {},
      "outputs": [
        {
          "name": "stdout",
          "output_type": "stream",
          "text": [
            "welcome to python programming!\n"
          ]
        }
      ],
      "source": [
        "# lower() method: converts to lowercase\n",
        "message = \"Welcome to PYTHON programming!\"\n",
        "print(message.lower())"
      ]
    },
    {
      "cell_type": "code",
      "execution_count": null,
      "metadata": {},
      "outputs": [
        {
          "name": "stdout",
          "output_type": "stream",
          "text": [
            "Welcome To Python Programming!\n"
          ]
        }
      ],
      "source": [
        "# title() method: Gives strings a title-case\n",
        "message = \"Welcome to python programming!\"\n",
        "print(message.title())"
      ]
    },
    {
      "cell_type": "code",
      "execution_count": null,
      "metadata": {},
      "outputs": [
        {
          "name": "stdout",
          "output_type": "stream",
          "text": [
            "Welcome to python programming!\n"
          ]
        }
      ],
      "source": [
        "# strip() method: removes spaces before/after texts\n",
        "message = \" Welcome to python programming! \"\n",
        "# print(message)\n",
        "print(message.strip())"
      ]
    },
    {
      "cell_type": "code",
      "execution_count": 39,
      "metadata": {},
      "outputs": [
        {
          "name": "stdout",
          "output_type": "stream",
          "text": [
            "Welcome to Python programming!\n"
          ]
        }
      ],
      "source": [
        "# replace() method: replaces part of string\n",
        "message = \"Welcome to python programming!\"\n",
        "print(message.replace(\"python\", \"Python\"))"
      ]
    },
    {
      "cell_type": "markdown",
      "metadata": {},
      "source": [
        "### **Task 2.1**\n",
        "Using your user bio created at the beginning of the lesson, display your user information in a short paragraph of your choice. Explore how to write statements on a new line."
      ]
    },
    {
      "cell_type": "code",
      "execution_count": 51,
      "metadata": {},
      "outputs": [
        {
          "name": "stdout",
          "output_type": "stream",
          "text": [
            "My name is David Oppong. I am 27 old and I come from South Suntreso\n"
          ]
        }
      ],
      "source": [
        "MyName = \"David Oppong\"\n",
        "Age = 27\n",
        "Location = \"South Suntreso\"\n",
        "print(f\"My name is {MyName}. I am {Age} old and I come from {Location}\")"
      ]
    },
    {
      "cell_type": "markdown",
      "metadata": {},
      "source": [
        "### **Part 2**"
      ]
    },
    {
      "cell_type": "markdown",
      "metadata": {
        "id": "Eq--8DgwWEE0"
      },
      "source": [
        "### List"
      ]
    },
    {
      "cell_type": "markdown",
      "metadata": {
        "id": "HnofdgylWEE0"
      },
      "source": [
        "Lists are very similar to strings, except that each element can be of any type.\n",
        "A list is a collection of ordered items, which are changeable (mutable). \n",
        "Lists are created using square brackets: `[...]`  \n",
        "\n",
        "Properties of a list include:\n",
        "*   Ordered\n",
        "*   Mutable  \n",
        "*   Supports various data types\n",
        "\n"
      ]
    },
    {
      "cell_type": "code",
      "execution_count": 52,
      "metadata": {
        "id": "jOUGYAuKWEE1",
        "outputId": "524985cc-5560-4012-81ac-5420226c95f1"
      },
      "outputs": [
        {
          "name": "stdout",
          "output_type": "stream",
          "text": [
            "<class 'list'>\n",
            "[1, 2, 3, 4, 5, 6, 7, 8]\n"
          ]
        }
      ],
      "source": [
        "l = [1,2,3,4,5,6,7,8]\n",
        "\n",
        "print(type(l))\n",
        "print(l)"
      ]
    },
    {
      "cell_type": "markdown",
      "metadata": {
        "id": "Q9owKes5WEE1"
      },
      "source": [
        "We can use the same slicing techniques to manipulate lists as we could use on strings:"
      ]
    },
    {
      "cell_type": "code",
      "execution_count": 53,
      "metadata": {
        "id": "ztwGrSq1WEE1",
        "outputId": "2c976d26-7636-41d2-dc53-adc02249ec79"
      },
      "outputs": [
        {
          "name": "stdout",
          "output_type": "stream",
          "text": [
            "[1, 2, 3, 4, 5, 6, 7, 8]\n",
            "[2, 3]\n",
            "[1, 3, 5, 7]\n"
          ]
        }
      ],
      "source": [
        "print(l)\n",
        "\n",
        "print(l[1:3])\n",
        "\n",
        "print(l[::2])"
      ]
    },
    {
      "cell_type": "code",
      "execution_count": 54,
      "metadata": {
        "id": "QLyM7dYNWEE1",
        "outputId": "d75579de-c320-46cd-e2e9-c0250354d0ba"
      },
      "outputs": [
        {
          "data": {
            "text/plain": [
              "1"
            ]
          },
          "execution_count": 54,
          "metadata": {},
          "output_type": "execute_result"
        }
      ],
      "source": [
        "l[0]"
      ]
    },
    {
      "cell_type": "markdown",
      "metadata": {
        "id": "BHJPtOKzWEE1"
      },
      "source": [
        "Elements in a list do not all have to be of the same type:"
      ]
    },
    {
      "cell_type": "code",
      "execution_count": null,
      "metadata": {
        "id": "7LTxHRuSWEE1",
        "outputId": "247d695c-b555-40c5-8665-29a5fbdc61a6"
      },
      "outputs": [
        {
          "name": "stdout",
          "output_type": "stream",
          "text": [
            "[1, 'a', 1.0, (1-1j)]\n"
          ]
        }
      ],
      "source": [
        "l = [1, 'a', 1.0, 1-1j]\n",
        "\n",
        "print(l)"
      ]
    },
    {
      "cell_type": "markdown",
      "metadata": {
        "id": "VSp4C4PcWEE2"
      },
      "source": [
        "Python lists can be inhomogeneous and arbitrarily nested:"
      ]
    },
    {
      "cell_type": "code",
      "execution_count": null,
      "metadata": {
        "id": "09XiPsAoWEE2",
        "outputId": "0c27196b-7dd1-4e81-98ac-27b846fde0d6"
      },
      "outputs": [
        {
          "data": {
            "text/plain": [
              "[1, [2, [3, [4, [5]]]]]"
            ]
          },
          "execution_count": 67,
          "metadata": {},
          "output_type": "execute_result"
        }
      ],
      "source": [
        "nested_list = [1, [2, [3, [4, [5]]]]]\n",
        "\n",
        "nested_list"
      ]
    },
    {
      "cell_type": "markdown",
      "metadata": {
        "id": "MLhPajOsWEE2"
      },
      "source": [
        "Lists play a very important role in Python. For example they are used in loops and other flow control structures (discussed below). There are a number of convenient functions for generating lists of various types, for example the `range` function:"
      ]
    },
    {
      "cell_type": "code",
      "execution_count": 62,
      "metadata": {
        "id": "TnB-l_MOWEE2",
        "outputId": "0df0850d-3dba-4167-c920-343bbfb7ed30"
      },
      "outputs": [
        {
          "data": {
            "text/plain": [
              "range(5, 30, 2)"
            ]
          },
          "execution_count": 62,
          "metadata": {},
          "output_type": "execute_result"
        }
      ],
      "source": [
        "start = 5\n",
        "stop = 30\n",
        "step = 2\n",
        "\n",
        "range(start, stop, step)"
      ]
    },
    {
      "cell_type": "code",
      "execution_count": 63,
      "metadata": {
        "id": "pXiPVxW6WEE3",
        "outputId": "536c0ed6-005b-45b6-cd9a-27e07f0cb6e8"
      },
      "outputs": [
        {
          "data": {
            "text/plain": [
              "[5, 7, 9, 11, 13, 15, 17, 19, 21, 23, 25, 27, 29]"
            ]
          },
          "execution_count": 63,
          "metadata": {},
          "output_type": "execute_result"
        }
      ],
      "source": [
        "# in python 3 range generates an iterator, which can be converted to a list using 'list(...)'.\n",
        "# It has no effect in python 2\n",
        "list(range(start, stop, step))"
      ]
    },
    {
      "cell_type": "code",
      "execution_count": null,
      "metadata": {
        "id": "V3Tz8A-9WEE3",
        "outputId": "29ef4499-78dc-4168-ee23-cbf672e4c733"
      },
      "outputs": [
        {
          "data": {
            "text/plain": [
              "[-10, -9, -8, -7, -6, -5, -4, -3, -2, -1, 0, 1, 2, 3, 4, 5, 6, 7, 8, 9]"
            ]
          },
          "execution_count": 70,
          "metadata": {},
          "output_type": "execute_result"
        }
      ],
      "source": [
        "list(range(-10, 10))"
      ]
    },
    {
      "cell_type": "code",
      "execution_count": null,
      "metadata": {
        "id": "NH6D70d7WEE3",
        "outputId": "e61a5d4b-73f9-48ef-b912-24f8c6101800"
      },
      "outputs": [
        {
          "data": {
            "text/plain": [
              "'Hello world'"
            ]
          },
          "execution_count": 71,
          "metadata": {},
          "output_type": "execute_result"
        }
      ],
      "source": [
        "s"
      ]
    },
    {
      "cell_type": "code",
      "execution_count": null,
      "metadata": {
        "id": "HaAvlouOWEE3",
        "outputId": "44bb7c55-28da-4b1e-d93c-61ffc5111764"
      },
      "outputs": [
        {
          "data": {
            "text/plain": [
              "['H', 'e', 'l', 'l', 'o', ' ', 'w', 'o', 'r', 'l', 'd']"
            ]
          },
          "execution_count": 72,
          "metadata": {},
          "output_type": "execute_result"
        }
      ],
      "source": [
        "# convert a string to a list by type casting:\n",
        "s2 = list(s)\n",
        "\n",
        "s2"
      ]
    },
    {
      "cell_type": "code",
      "execution_count": null,
      "metadata": {
        "id": "6EIeAW4zWEE3",
        "outputId": "19867b55-d974-446e-bf63-a1e22f954cfe"
      },
      "outputs": [
        {
          "name": "stdout",
          "output_type": "stream",
          "text": [
            "[' ', 'H', 'd', 'e', 'l', 'l', 'l', 'o', 'o', 'r', 'w']\n"
          ]
        }
      ],
      "source": [
        "# sorting lists\n",
        "s2.sort()\n",
        "\n",
        "print(s2)"
      ]
    },
    {
      "cell_type": "markdown",
      "metadata": {
        "id": "sXGB9gb8WEE4"
      },
      "source": [
        "#### **List Methods**  \n",
        "\n",
        "**Common Methods:**\n",
        "- `append()`\n",
        "\n",
        "- `extend()`\n",
        "\n",
        "- `insert()`\n",
        "\n",
        "- `remove()`\n",
        "\n",
        "- `pop()`\n",
        "\n",
        "- `index()`\n",
        "\n",
        "- `count()`\n",
        "\n",
        "- `sort()`\n",
        "\n",
        "- `reverse()`\n",
        "\n",
        "- `copy()`"
      ]
    },
    {
      "cell_type": "code",
      "execution_count": null,
      "metadata": {},
      "outputs": [
        {
          "data": {
            "text/plain": [
              "['Africa', 100, 'Nigeria', 'Senegal', 20, 30, 40, 50, 7, 6, 5]"
            ]
          },
          "metadata": {},
          "output_type": "display_data"
        }
      ],
      "source": [
        "# example list\n",
        "african_countries = [\"Africa\", 100, \"Nigeria\", \"Senegal\", 20, 30, 40, 50, 7, 6, 5]\n",
        "african_countries "
      ]
    },
    {
      "cell_type": "code",
      "execution_count": null,
      "metadata": {},
      "outputs": [
        {
          "data": {
            "text/plain": [
              "['Africa', 100, 'Nigeria', 'Senegal', 20, 30, 40, 50, 7, 6, 5, 'Ghana']"
            ]
          },
          "metadata": {},
          "output_type": "display_data"
        }
      ],
      "source": [
        "# append() method\n",
        "african_countries.append(\"Ghana\")  # add the string \"Ghana\" to the list\n",
        "african_countries"
      ]
    },
    {
      "cell_type": "code",
      "execution_count": null,
      "metadata": {},
      "outputs": [
        {
          "name": "stdout",
          "output_type": "stream",
          "text": [
            "['Africa', 100, 'Nigeria', 'Senegal', 20, 30, 40, 50, 7, 6, 5, 'Ghana', 'Mali', 'Egypt']\n"
          ]
        }
      ],
      "source": [
        "# extend() method\n",
        "african_countries.extend([\"Mali\", \"Egypt\"])\n",
        "print(african_countries)"
      ]
    },
    {
      "cell_type": "code",
      "execution_count": null,
      "metadata": {},
      "outputs": [
        {
          "name": "stdout",
          "output_type": "stream",
          "text": [
            "['Africa', 100, 'Ghana', 'Nigeria', 'Senegal', 20, 30, 40, 50, 7, 6, 5, 'Ghana', 'Mali', 'Egypt']\n"
          ]
        }
      ],
      "source": [
        "# insert() method\n",
        "african_countries.insert(2, \"Ghana\")\n",
        "print(african_countries)"
      ]
    },
    {
      "cell_type": "code",
      "execution_count": null,
      "metadata": {},
      "outputs": [
        {
          "name": "stdout",
          "output_type": "stream",
          "text": [
            "['Africa', 100, 'Ghana', 'Nigeria', 'Senegal', 20, 40, 50, 7, 6, 5, 'Ghana', 'Mali', 'Egypt']\n"
          ]
        }
      ],
      "source": [
        "# remove() method\n",
        "african_countries.remove(30)\n",
        "print(african_countries)"
      ]
    },
    {
      "cell_type": "code",
      "execution_count": null,
      "metadata": {},
      "outputs": [
        {
          "name": "stdout",
          "output_type": "stream",
          "text": [
            "['Egypt', 'Mali', 'Ghana', 5, 6, 7, 50, 40, 20, 'Senegal', 'Nigeria', 'Ghana', 100, 'Africa']\n"
          ]
        }
      ],
      "source": [
        "# reverse() method\n",
        "african_countries.reverse()\n",
        "print(african_countries)"
      ]
    },
    {
      "cell_type": "markdown",
      "metadata": {
        "id": "ZmxNGBGSWEE5"
      },
      "source": [
        "See `help(list)` for more details, or read the online documentation"
      ]
    },
    {
      "cell_type": "markdown",
      "metadata": {
        "id": "rdHHXTKOWEE5"
      },
      "source": [
        "### Tuples"
      ]
    },
    {
      "cell_type": "markdown",
      "metadata": {
        "id": "smTTL_oSWEE5"
      },
      "source": [
        "Tuples are like lists, except that they cannot be modified once created, that is they are *immutable*.\n",
        "\n",
        "Properties:\n",
        "- Ordered   \n",
        "- Immutable (items cannot be added or removed once a tuple is created)\n",
        "- Can hold different data types or data structures.  \n",
        "\n",
        "In Python, tuples are created using the syntax `(..., ..., ...)`, `tuple()` or even `..., ...`:"
      ]
    },
    {
      "cell_type": "code",
      "execution_count": null,
      "metadata": {},
      "outputs": [
        {
          "name": "stdout",
          "output_type": "stream",
          "text": [
            "(1, 2, 3, 4, 5, 5, 3, 4, 5, 17, 33, 29, 56, 11, 2, 3, 44, 2, 5, 22, 71)\n"
          ]
        }
      ],
      "source": [
        "# create a tuple\n",
        "tuple_1 = (1, 2, 3, 4, 5, 5, 3, 4, 5, 17, 33, 29, 56, 11, 2, 3, 44, 2, 5, 22, 71)\n",
        "print(tuple_1)"
      ]
    },
    {
      "cell_type": "code",
      "execution_count": null,
      "metadata": {
        "id": "OJJShVlZWEE5",
        "outputId": "9d0cc34a-2d39-4ed2-9481-e968b2dd253f"
      },
      "outputs": [
        {
          "name": "stdout",
          "output_type": "stream",
          "text": [
            "(10, 20)\n",
            "<class 'tuple'>\n"
          ]
        }
      ],
      "source": [
        "point = (10, 20)\n",
        "\n",
        "print(point)\n",
        "print(type(point))"
      ]
    },
    {
      "cell_type": "markdown",
      "metadata": {
        "id": "NeHgZrmKWEE6"
      },
      "source": [
        "We can unpack a tuple by assigning it to a comma-separated list of variables:"
      ]
    },
    {
      "cell_type": "code",
      "execution_count": null,
      "metadata": {
        "id": "KRW31ImFWEE6",
        "outputId": "3390ae6a-7d81-494e-e71a-3ca6e4b2f6ad"
      },
      "outputs": [
        {
          "name": "stdout",
          "output_type": "stream",
          "text": [
            "('x =', 10)\n",
            "('y =', 20)\n"
          ]
        }
      ],
      "source": [
        "x, y = point\n",
        "\n",
        "print(\"x =\", x)\n",
        "print(\"y =\", y)"
      ]
    },
    {
      "cell_type": "markdown",
      "metadata": {
        "id": "V1EJ5uVBWEE6"
      },
      "source": [
        "If we try to assign a new value to an element in a tuple we get an error:"
      ]
    },
    {
      "cell_type": "code",
      "execution_count": null,
      "metadata": {
        "id": "PYzBfT5QWEE6",
        "outputId": "4702f986-faf7-4b6d-e6a7-a2d051888cb9"
      },
      "outputs": [],
      "source": [
        "point[0] = 20"
      ]
    },
    {
      "cell_type": "markdown",
      "metadata": {},
      "source": [
        "<!-- **Common Tuple Methods**  \n",
        "- `count`\n",
        "\n",
        "- `index` -->"
      ]
    },
    {
      "cell_type": "code",
      "execution_count": null,
      "metadata": {},
      "outputs": [
        {
          "data": {
            "text/plain": [
              "4"
            ]
          },
          "execution_count": 19,
          "metadata": {},
          "output_type": "execute_result"
        }
      ],
      "source": [
        "# count occurrences of 5 in tuple_1\n",
        "tuple_1.count(5)"
      ]
    },
    {
      "cell_type": "code",
      "execution_count": null,
      "metadata": {},
      "outputs": [
        {
          "data": {
            "text/plain": [
              "10"
            ]
          },
          "execution_count": 20,
          "metadata": {},
          "output_type": "execute_result"
        }
      ],
      "source": [
        "# find the index of an item in tuple_1\n",
        "tuple_1.index(33)"
      ]
    },
    {
      "cell_type": "markdown",
      "metadata": {
        "id": "m3rqc6Q1WEE6"
      },
      "source": [
        "### Dictionaries"
      ]
    },
    {
      "cell_type": "markdown",
      "metadata": {
        "id": "U1uT4x-3WEE6"
      },
      "source": [
        "- A dictionary in python is a data structure that stores data in **key-value** pairs.  \n",
        "- Dictionaries are also like lists, except that each element is a key-value pair. \n",
        "- The syntax for dictionaries is `{key1 : value1, ...}`:\n",
        "- Dictionaries are mutable, and have unique keys.  \n",
        "\n",
        "**Common Methods**  \n",
        "- `keys()`\n",
        "- `values()`\n",
        "- `update()`\n",
        "- `items()`\n",
        "- `get()`\n",
        "- `clear()`."
      ]
    },
    {
      "attachments": {
        "image.png": {
          "image/png": "[encoded data removed]"
        }
      },
      "cell_type": "markdown",
      "metadata": {},
      "source": [
        "![image.png](attachment:image.png)"
      ]
    },
    {
      "cell_type": "code",
      "execution_count": 67,
      "metadata": {},
      "outputs": [
        {
          "name": "stdout",
          "output_type": "stream",
          "text": [
            "{'pens': 50, 'pencils': 100, 'notebooks': 200, 'ruler': 150}\n"
          ]
        }
      ],
      "source": [
        "# # create a dictionary of school supplies\n",
        "shopping_cart = {'pens':50, 'pencils':100,\n",
        "              'notebooks':200, 'ruler':150,}\n",
        "\n",
        "print(shopping_cart)"
      ]
    },
    {
      "cell_type": "code",
      "execution_count": 68,
      "metadata": {},
      "outputs": [
        {
          "data": {
            "text/plain": [
              "dict_keys(['pens', 'pencils', 'notebooks', 'ruler'])"
            ]
          },
          "execution_count": 68,
          "metadata": {},
          "output_type": "execute_result"
        }
      ],
      "source": [
        "# # # get all keys from the dictionary\n",
        "shopping_cart.keys()"
      ]
    },
    {
      "cell_type": "code",
      "execution_count": 69,
      "metadata": {},
      "outputs": [
        {
          "data": {
            "text/plain": [
              "dict_values([50, 100, 200, 150])"
            ]
          },
          "execution_count": 69,
          "metadata": {},
          "output_type": "execute_result"
        }
      ],
      "source": [
        "# # get all values frm the dictionary\n",
        "shopping_cart.values()\n"
      ]
    },
    {
      "cell_type": "code",
      "execution_count": 71,
      "metadata": {},
      "outputs": [
        {
          "name": "stdout",
          "output_type": "stream",
          "text": [
            "dict_items([('pens', 50), ('pencils', 100), ('notebooks', 200), ('ruler', 150)])\n"
          ]
        }
      ],
      "source": [
        "# # get all items(key-value pairs) from the dictionary\n",
        "all_items = shopping_cart.items()\n",
        "print(all_items)"
      ]
    },
    {
      "cell_type": "code",
      "execution_count": 72,
      "metadata": {},
      "outputs": [
        {
          "name": "stdout",
          "output_type": "stream",
          "text": [
            "200\n"
          ]
        }
      ],
      "source": [
        "# # retrieve the value of an item in the dictionary\n",
        "notebooks_cost = shopping_cart.get('notebooks')\n",
        "print(notebooks_cost)"
      ]
    },
    {
      "cell_type": "code",
      "execution_count": 73,
      "metadata": {},
      "outputs": [
        {
          "name": "stdout",
          "output_type": "stream",
          "text": [
            "{'pens': 50, 'pencils': 100, 'notebooks': 200, 'ruler': 150, 'school bag': 300, 'textbooks': 500}\n"
          ]
        }
      ],
      "source": [
        "# # update the dictionary with new items\n",
        "shopping_cart.update({'school bag': 300, 'textbooks':500})\n",
        "print(shopping_cart)"
      ]
    },
    {
      "cell_type": "code",
      "execution_count": 74,
      "metadata": {},
      "outputs": [
        {
          "name": "stdout",
          "output_type": "stream",
          "text": [
            "{}\n"
          ]
        }
      ],
      "source": [
        "# # clear all items from the dictionary\n",
        "shopping_cart.clear()\n",
        "print(shopping_cart)"
      ]
    },
    {
      "cell_type": "markdown",
      "metadata": {},
      "source": [
        "More Examples"
      ]
    },
    {
      "cell_type": "code",
      "execution_count": 75,
      "metadata": {
        "id": "xEciVYX8WEE6",
        "outputId": "ee7b489d-1850-4d7f-8d20-0dff3a85beac"
      },
      "outputs": [
        {
          "name": "stdout",
          "output_type": "stream",
          "text": [
            "<class 'dict'>\n",
            "{'parameter1': 1.0, 'parameter2': 2.0, 'parameter3': 3.0}\n"
          ]
        }
      ],
      "source": [
        "params = {\"parameter1\" : 1.0,\n",
        "          \"parameter2\" : 2.0,\n",
        "         \"parameter3\" : 3.0,}\n",
        "\n",
        "print(type(params))\n",
        "print(params)"
      ]
    },
    {
      "cell_type": "code",
      "execution_count": 76,
      "metadata": {
        "id": "bo0SLkfZWEE7",
        "outputId": "60716fdc-fa94-418d-8234-c0970a324f93"
      },
      "outputs": [
        {
          "name": "stdout",
          "output_type": "stream",
          "text": [
            "parameter1 = 1.0\n",
            "parameter2 = 2.0\n",
            "parameter3 = 3.0\n"
          ]
        }
      ],
      "source": [
        "print(\"parameter1 = \" + str(params[\"parameter1\"]))\n",
        "print(\"parameter2 = \" + str(params[\"parameter2\"]))\n",
        "print(\"parameter3 = \" + str(params[\"parameter3\"]))"
      ]
    },
    {
      "cell_type": "code",
      "execution_count": 77,
      "metadata": {
        "id": "KMU5WbARWEE7",
        "outputId": "aa76f718-e4cf-4ba0-de62-72be1821bd59"
      },
      "outputs": [
        {
          "name": "stdout",
          "output_type": "stream",
          "text": [
            "parameter1 = A\n",
            "parameter2 = B\n",
            "parameter3 = 3.0\n",
            "parameter4 = D\n"
          ]
        }
      ],
      "source": [
        "params[\"parameter1\"] = \"A\"\n",
        "params[\"parameter2\"] = \"B\"\n",
        "\n",
        "# add a new entry\n",
        "params[\"parameter4\"] = \"D\"\n",
        "\n",
        "print(\"parameter1 = \" + str(params[\"parameter1\"]))\n",
        "print(\"parameter2 = \" + str(params[\"parameter2\"]))\n",
        "print(\"parameter3 = \" + str(params[\"parameter3\"]))\n",
        "print(\"parameter4 = \" + str(params[\"parameter4\"]))"
      ]
    },
    {
      "cell_type": "markdown",
      "metadata": {},
      "source": [
        "### **Sets**\n",
        "\n",
        "Sets are unordered collections of unique items with the following properties  \n",
        "\n",
        "- Unordered  \n",
        "- No duplicate elements  \n",
        "- Mutable, only for adding/removing elements  \n",
        "\n",
        "**Common Methods**  \n",
        "- `add()`\n",
        "\n",
        "- `remove()`\n",
        "\n",
        "- `discard()`\n",
        "\n",
        "- `union()`\n",
        "\n",
        "- `intersection()`\n",
        "\n",
        "- `difference()`\n",
        "\n",
        "- `clear()`"
      ]
    },
    {
      "cell_type": "code",
      "execution_count": 64,
      "metadata": {},
      "outputs": [
        {
          "name": "stdout",
          "output_type": "stream",
          "text": [
            "{1, 2, 3, 4, 5, 6, 7, 8, 9, 10}\n"
          ]
        }
      ],
      "source": [
        "# # create a set of numbers\n",
        "set_1 = {1, 2, 3, 4, 5, 6, 7, 8, 9, 10}\n",
        "print(set_1)"
      ]
    },
    {
      "cell_type": "code",
      "execution_count": 65,
      "metadata": {},
      "outputs": [
        {
          "name": "stdout",
          "output_type": "stream",
          "text": [
            "{1, 2, 3, 4, 5, 6, 7, 8, 9, 10, 11}\n"
          ]
        }
      ],
      "source": [
        "# # add an element to the set\n",
        "set_1.add(11)\n",
        "print(set_1)"
      ]
    },
    {
      "cell_type": "code",
      "execution_count": 66,
      "metadata": {},
      "outputs": [
        {
          "name": "stdout",
          "output_type": "stream",
          "text": [
            "{1, 2, 3, 4, 5, 6, 7, 8, 9, 10}\n"
          ]
        }
      ],
      "source": [
        "# # remove an element from the set\n",
        "set_1.remove(11)\n",
        "print(set_1)"
      ]
    },
    {
      "cell_type": "code",
      "execution_count": 78,
      "metadata": {},
      "outputs": [
        {
          "name": "stdout",
          "output_type": "stream",
          "text": [
            "{1, 2, 3, 4, 5, 6, 7, 8, 9}\n"
          ]
        }
      ],
      "source": [
        "# # discard an element from the set\n",
        "set_1.discard(10)\n",
        "print(set_1)"
      ]
    },
    {
      "cell_type": "code",
      "execution_count": 80,
      "metadata": {},
      "outputs": [
        {
          "name": "stdout",
          "output_type": "stream",
          "text": [
            "{1, 2, 3, 4, 5, 6, 7, 8, 9, 10, 12, 14, 16, 18, 20}\n"
          ]
        }
      ],
      "source": [
        "# create another set of even numbers and find the union\n",
        "\n",
        "set_2 = {2, 4, 6, 8, 10, 12, 14, 16, 18, 20}\n",
        "print(set_1.union(set_2))"
      ]
    },
    {
      "cell_type": "code",
      "execution_count": 82,
      "metadata": {},
      "outputs": [
        {
          "name": "stdout",
          "output_type": "stream",
          "text": [
            "{8, 2, 4, 6}\n"
          ]
        }
      ],
      "source": [
        "# find the intersection of the two sets\n",
        "print(set_1.intersection(set_2))"
      ]
    },
    {
      "cell_type": "code",
      "execution_count": 81,
      "metadata": {},
      "outputs": [
        {
          "name": "stdout",
          "output_type": "stream",
          "text": [
            "{1, 3, 5, 7, 9}\n"
          ]
        }
      ],
      "source": [
        "# find the difference of the two sets\n",
        "print(set_1.difference(set_2))"
      ]
    },
    {
      "cell_type": "code",
      "execution_count": 83,
      "metadata": {},
      "outputs": [
        {
          "name": "stdout",
          "output_type": "stream",
          "text": [
            "set()\n"
          ]
        }
      ],
      "source": [
        "# clear all elements from the list\n",
        "set_1.clear()\n",
        "print(set_1)"
      ]
    },
    {
      "cell_type": "markdown",
      "metadata": {},
      "source": [
        "### **Iterable (Type) Casting**  \n",
        "\n",
        "This is the process of converting an object from one data type to another.  \n",
        "\n",
        "**Examples:**\n",
        "- List to Tuple: `tuple(list_1)`\n",
        "- Tuple to List: `list(tuple_1)`\n",
        "- List to Set: `set(list_1)`\n",
        "- Dictionary Keys to List: `list(shopping_cart.keys())`\n"
      ]
    },
    {
      "cell_type": "code",
      "execution_count": 84,
      "metadata": {},
      "outputs": [
        {
          "name": "stdout",
          "output_type": "stream",
          "text": [
            "(10, 20, 30, 40, 50)\n"
          ]
        }
      ],
      "source": [
        "# convert list_1 to a tuple\n",
        "list_1 = [10, 20, 30, 40, 50]\n",
        "tuple_1 = tuple(list_1)\n",
        "print(tuple_1)"
      ]
    },
    {
      "cell_type": "code",
      "execution_count": 85,
      "metadata": {},
      "outputs": [
        {
          "name": "stdout",
          "output_type": "stream",
          "text": [
            "[10, 20, 30, 40, 50]\n"
          ]
        }
      ],
      "source": [
        "# convert tuple_1 into a list\n",
        "tuple_1 = (10, 20, 30, 40, 50)\n",
        "list_1 = list(tuple_1)\n",
        "print(list_1)"
      ]
    },
    {
      "cell_type": "code",
      "execution_count": 87,
      "metadata": {},
      "outputs": [
        {
          "name": "stdout",
          "output_type": "stream",
          "text": [
            "{40, 10, 50, 20, 30}\n"
          ]
        }
      ],
      "source": [
        "# create list_2 and convert into a set\n",
        "list_2 = [10, 20, 30, 40, 50, 10, 20, 30, 40, 50]\n",
        "set_1 = set(list_2)\n",
        "print(set_1)"
      ]
    },
    {
      "cell_type": "code",
      "execution_count": 88,
      "metadata": {},
      "outputs": [
        {
          "name": "stdout",
          "output_type": "stream",
          "text": [
            "['pens', 'pencils', 'notebooks', 'ruler']\n"
          ]
        }
      ],
      "source": [
        "# convert keys in shopping_cart into a list\n",
        "shopping_cart = {'pens':50, 'pencils':100, 'notebooks':200, 'ruler':150}\n",
        "list_keys = list(shopping_cart.keys())\n",
        "print(list_keys)"
      ]
    },
    {
      "cell_type": "markdown",
      "metadata": {},
      "source": [
        "## **5. Control Flow**   \n",
        "---\n",
        "\n",
        "Control flow refers to how your program/code is executed. This follows a particular order as defined by the user.\n",
        "\n",
        "*Imagine you're following a recipe to cook. Usually, you*  \n",
        "- *do things step by step*  \n",
        "- *make decisions (e.g. if the dough is too sticky, add more flour)*  \n",
        "- *repeat steps (continue to stir until smooth mixture)*  \n",
        "\n",
        "The same idea is implemented in **control flow** This helps your program, decide, repeat or skip certain actions.\n"
      ]
    },
    {
      "cell_type": "markdown",
      "metadata": {},
      "source": [
        "### **5.1 Conditional Statements (If/else Statements)**  \n",
        "\n",
        "We take an action/decision when a condition is met or not met."
      ]
    },
    {
      "cell_type": "code",
      "execution_count": 89,
      "metadata": {},
      "outputs": [
        {
          "name": "stdout",
          "output_type": "stream",
          "text": [
            "10 is greater than 5\n"
          ]
        }
      ],
      "source": [
        "# check if a statement is true\n",
        "if 10 > 5:\n",
        "  print(\"10 is greater than 5\")"
      ]
    },
    {
      "cell_type": "markdown",
      "metadata": {},
      "source": [
        "#### **Exercise II**"
      ]
    },
    {
      "cell_type": "markdown",
      "metadata": {},
      "source": [
        "- create variables for two numeric values and write a conditional statement of your choice\n"
      ]
    },
    {
      "cell_type": "code",
      "execution_count": 102,
      "metadata": {},
      "outputs": [
        {
          "name": "stdout",
          "output_type": "stream",
          "text": [
            "15 is less than 20\n"
          ]
        }
      ],
      "source": [
        "x=20\n",
        "y=15\n",
        "if y<x:\n",
        "    print(\"15 is less than 20\")"
      ]
    },
    {
      "cell_type": "markdown",
      "metadata": {},
      "source": [
        "* write a program to receive an input from a user and check if the input is odd or even."
      ]
    },
    {
      "cell_type": "code",
      "execution_count": 103,
      "metadata": {},
      "outputs": [
        {
          "name": "stdout",
          "output_type": "stream",
          "text": [
            "6 is an even number.\n"
          ]
        }
      ],
      "source": [
        "# Ask the user to enter a number\n",
        "num = int(input(\"Enter a number: \"))\n",
        "\n",
        "# Check if the number is even or odd\n",
        "if num % 2 == 0:\n",
        "    print(f\"{num} is an even number.\")\n",
        "else:\n",
        "    print(f\"{num} is an odd number.\")\n"
      ]
    },
    {
      "cell_type": "markdown",
      "metadata": {},
      "source": [
        "- write a program to check if a person is eligible to vote.\n"
      ]
    },
    {
      "cell_type": "code",
      "execution_count": 105,
      "metadata": {},
      "outputs": [
        {
          "name": "stdout",
          "output_type": "stream",
          "text": [
            "You are eligible to vote.\n"
          ]
        }
      ],
      "source": [
        "# Get age input from the user\n",
        "age = int(input(\"Enter your age: \"))\n",
        "\n",
        "# Check eligibility\n",
        "if age >= 18:\n",
        "    print(\"You are eligible to vote.\")\n",
        "else:\n",
        "    print(\"You are not eligible to vote\")\n"
      ]
    },
    {
      "cell_type": "markdown",
      "metadata": {},
      "source": [
        "- write a program that checks if an item belongs to a list. If the item is in the list, the program should return the statement: \"  [item] is in the [list name] \""
      ]
    },
    {
      "cell_type": "code",
      "execution_count": 106,
      "metadata": {},
      "outputs": [
        {
          "name": "stdout",
          "output_type": "stream",
          "text": [
            "mango is in the fruits.\n"
          ]
        }
      ],
      "source": [
        "fruits = [\"apple\", \"banana\", \"orange\", \"mango\"]\n",
        "list_name = \"fruits\"\n",
        "\n",
        "# Get item from the user\n",
        "item = input(\"Enter an item to check: \").lower()\n",
        "\n",
        "# Check if the item is in the list\n",
        "if item in fruits:\n",
        "    print(f\"{item} is in the {list_name}.\")\n",
        "else:\n",
        "    print(f\"{item} is NOT in the {list_name}.\")\n"
      ]
    },
    {
      "cell_type": "markdown",
      "metadata": {},
      "source": [
        "`if-elif-else` is a form of chained conditional statement that allows us to add more conditions"
      ]
    },
    {
      "cell_type": "code",
      "execution_count": 90,
      "metadata": {},
      "outputs": [
        {
          "name": "stdout",
          "output_type": "stream",
          "text": [
            "Number is less than or equal to 10\n"
          ]
        }
      ],
      "source": [
        "# if-elif-else implementation\n",
        "\n",
        "number = int(input(\"Enter a number\\n\")) #ask user for an input\n",
        "\n",
        "if number <= 10:\n",
        "    print(\"Number is less than or equal to 10\")\n",
        "\n",
        "elif number >10 and number <= 20:\n",
        "    print(\"Number is greater than 10 but less than or equal to 20\")\n",
        "\n",
        "elif number >20 and number <= 30:\n",
        "    print(\"Number is greater than 20 but less than or equal to  30\")\n",
        "\n",
        "else:\n",
        "    print(\"Number is greater than 30\")\n"
      ]
    },
    {
      "cell_type": "markdown",
      "metadata": {},
      "source": [
        "### **5.1.1 Nested Condition**  \n",
        "\n",
        "Consider this as a condition in a condition."
      ]
    },
    {
      "cell_type": "markdown",
      "metadata": {},
      "source": [
        "* Check if a number is even or odd, only when it is less than 10"
      ]
    },
    {
      "cell_type": "code",
      "execution_count": null,
      "metadata": {},
      "outputs": [],
      "source": [
        "num = int(input(\"Enter a number\\n\"))\n",
        "\n",
        "if num > 10:\n",
        "    print(f\"{num} is greater than  10.\")\n",
        "elif num == 10:\n",
        "    print(f\"{num} is equal 10\")\n",
        "else:\n",
        "    print(f\"{num} is less than 10\")\n",
        "    if num%2 ==0:\n",
        "        print(f\"{num} is an even number\")\n",
        "    else:\n",
        "\n",
        "        print(f\"The number {num} is not even.\")"
      ]
    },
    {
      "cell_type": "markdown",
      "metadata": {},
      "source": [
        "#### **Mini Challenge**  \n",
        "\n",
        "The eligible age for voting in Ghana is 18years. All adults (18 yrs and older) must have a voter's ID to be able to vote.  \n",
        "Write a program to check age voter eligibilty of individuals."
      ]
    },
    {
      "cell_type": "code",
      "execution_count": 110,
      "metadata": {},
      "outputs": [
        {
          "name": "stdout",
          "output_type": "stream",
          "text": [
            "You are not eligible to vote because you are under 18.\n"
          ]
        }
      ],
      "source": [
        "# Ask user for his/her age\n",
        "age = int(input(\"Enter your age: \"))\n",
        "\n",
        "# Check age eligibility\n",
        "if age >= 18:\n",
        "     print(\"You are eligible to vote in Ghana.\")\n",
        "else:\n",
        "    print(\"You are not eligible to vote because you are under 18.\")\n"
      ]
    },
    {
      "cell_type": "markdown",
      "metadata": {
        "id": "hsBI1qQtWEE9"
      },
      "source": [
        "## Loops"
      ]
    },
    {
      "cell_type": "markdown",
      "metadata": {
        "id": "Sc4B5VUeWEE9"
      },
      "source": [
        "In Python, loops can be programmed in a number of different ways. The most common is the `for` loop, which is used together with iterable objects, such as lists. The basic syntax is:"
      ]
    },
    {
      "cell_type": "markdown",
      "metadata": {
        "id": "KO78vO9kWEE9"
      },
      "source": [
        "\n",
        "### **For Loop**  \n",
        "\n",
        "A `for` loop is used to iterate over a sequence and execute a block of code for each item in the sequence.  \n",
        "\n",
        "```\n",
        "for item in sequence:\n",
        "    #code to execute\n",
        "```\n",
        "\n"
      ]
    },
    {
      "cell_type": "code",
      "execution_count": null,
      "metadata": {
        "id": "eocIWe6BWEE9",
        "outputId": "d3bcd3ba-9e25-4a64-9f56-311bd0d83e3e"
      },
      "outputs": [
        {
          "name": "stdout",
          "output_type": "stream",
          "text": [
            "1\n",
            "2\n",
            "3\n"
          ]
        }
      ],
      "source": [
        "for x in [1,2,3]:\n",
        "    print(x)"
      ]
    },
    {
      "cell_type": "markdown",
      "metadata": {
        "id": "8mQ40W31WEE9"
      },
      "source": [
        "The `for` loop iterates over the elements of the supplied list, and executes the containing block once for each element. Any kind of list can be used in the `for` loop. For example:"
      ]
    },
    {
      "cell_type": "code",
      "execution_count": null,
      "metadata": {
        "id": "H9g3Go27WEE9",
        "outputId": "4379867d-171e-4b12-c8ad-2aa0c2553b06"
      },
      "outputs": [
        {
          "name": "stdout",
          "output_type": "stream",
          "text": [
            "0\n",
            "1\n",
            "2\n",
            "3\n"
          ]
        }
      ],
      "source": [
        "for x in range(4): # by default range start at 0\n",
        "    print(x)"
      ]
    },
    {
      "cell_type": "markdown",
      "metadata": {
        "id": "1Ni2fIefWEE9"
      },
      "source": [
        "Note: `range(4)` does not include 4 !"
      ]
    },
    {
      "cell_type": "code",
      "execution_count": null,
      "metadata": {
        "id": "Xeq1pBcuWEE-",
        "outputId": "5ecdda45-1566-4a19-e5d1-0beddaebcfa3"
      },
      "outputs": [
        {
          "name": "stdout",
          "output_type": "stream",
          "text": [
            "-3\n",
            "-2\n",
            "-1\n",
            "0\n",
            "1\n",
            "2\n"
          ]
        }
      ],
      "source": [
        "for x in range(-3,3):\n",
        "    print(x)"
      ]
    },
    {
      "cell_type": "code",
      "execution_count": null,
      "metadata": {
        "id": "okFaxLWxWEE-",
        "outputId": "8a3bfe1b-0438-4624-d9a7-968b92af744c"
      },
      "outputs": [
        {
          "name": "stdout",
          "output_type": "stream",
          "text": [
            "scientific\n",
            "computing\n",
            "with\n",
            "python\n"
          ]
        }
      ],
      "source": [
        "for word in [\"scientific\", \"computing\", \"with\", \"python\"]:\n",
        "    print(word)"
      ]
    },
    {
      "cell_type": "markdown",
      "metadata": {},
      "source": [
        "More Examples"
      ]
    },
    {
      "cell_type": "code",
      "execution_count": null,
      "metadata": {},
      "outputs": [
        {
          "name": "stdout",
          "output_type": "stream",
          "text": [
            "M\n",
            "a\n",
            "t\n",
            "t\n",
            "h\n",
            "e\n",
            "w\n"
          ]
        }
      ],
      "source": [
        "name = \"Matthew\"\n",
        "for letter in name:\n",
        "  print(letter)"
      ]
    },
    {
      "cell_type": "code",
      "execution_count": null,
      "metadata": {},
      "outputs": [
        {
          "name": "stdout",
          "output_type": "stream",
          "text": [
            "2\n",
            "4\n",
            "6\n",
            "8\n",
            "10\n",
            "3\n",
            "5\n",
            "7\n"
          ]
        }
      ],
      "source": [
        "# iterate over a list of numbers\n",
        "nums = [2, 4, 6, 8, 10, 3, 5, 7]\n",
        "\n",
        "for num in nums:\n",
        "  print(num)"
      ]
    },
    {
      "cell_type": "code",
      "execution_count": null,
      "metadata": {},
      "outputs": [
        {
          "name": "stdout",
          "output_type": "stream",
          "text": [
            "2 is an even number\n",
            "4 is an even number\n",
            "6 is an even number\n",
            "8 is an even number\n",
            "10 is an even number\n",
            "3 is an odd number\n",
            "5 is an odd number\n",
            "7 is an odd number\n"
          ]
        }
      ],
      "source": [
        "# add codition to be executed after iterating over nums\n",
        "\n",
        "for number in nums:\n",
        "  if number % 2 == 0:\n",
        "    print(f'{number} is an even number')\n",
        "  else:\n",
        "      print(f'{number} is an odd number')"
      ]
    },
    {
      "cell_type": "code",
      "execution_count": null,
      "metadata": {},
      "outputs": [
        {
          "name": "stdout",
          "output_type": "stream",
          "text": [
            "3 is less than 10\n",
            "12\n",
            "23\n",
            "4 is less than 10\n",
            "5 is less than 10\n",
            "7 is less than 10\n",
            "11\n",
            "9 is less than 10\n"
          ]
        }
      ],
      "source": [
        "list_numbers = [3,12,23,4,5,7,11,9]\n",
        "\n",
        "for number in list_numbers:\n",
        "    if number >10:\n",
        "        print(number)\n",
        "    else:\n",
        "        print(f\"{number} is less than 10\")"
      ]
    },
    {
      "cell_type": "markdown",
      "metadata": {},
      "source": [
        "#### **Exercise III**"
      ]
    },
    {
      "cell_type": "markdown",
      "metadata": {},
      "source": [
        "* Write a program to determine which items in the list below are prime numbers.  \n",
        "Display an appropriate message if the number is prime or not.\n",
        "\n",
        "```\n",
        "num_list = [1, 2, 3, 4, 5, 6, 7, 8, 9, 10 ,20, 30, 40, 50, 60, 70, 80, 90]\n",
        "```\n",
        "\n"
      ]
    },
    {
      "cell_type": "code",
      "execution_count": null,
      "metadata": {},
      "outputs": [
        {
          "name": "stdout",
          "output_type": "stream",
          "text": [
            "1 is not a prime number.\n",
            "2 is a prime number.\n",
            "3 is a prime number.\n",
            "4 is not a prime number.\n",
            "5 is a prime number.\n",
            "6 is not a prime number.\n",
            "7 is a prime number.\n",
            "8 is not a prime number.\n",
            "9 is not a prime number.\n",
            "10 is not a prime number.\n",
            "20 is not a prime number.\n",
            "30 is not a prime number.\n",
            "40 is not a prime number.\n",
            "50 is not a prime number.\n",
            "60 is not a prime number.\n",
            "70 is not a prime number.\n",
            "80 is not a prime number.\n",
            "90 is not a prime number.\n"
          ]
        }
      ],
      "source": [
        "#Solution 1\n",
        "# List of numbers to check\n",
        "num_list = [1, 2, 3, 4, 5, 6, 7, 8, 9, 10, 20, 30, 40, 50, 60, 70, 80, 90]\n",
        "\n",
        "# Iterate through each number\n",
        "for num in num_list:\n",
        "    if num < 2:\n",
        "        print(f\"{num} is not a prime number.\")\n",
        "    else:\n",
        "        is_prime = True\n",
        "        for i in range(2, int(num ** 0.5) + 1):\n",
        "            if num % i == 0:\n",
        "                is_prime = False\n",
        "                break\n",
        "        if is_prime:\n",
        "            print(f\"{num} is a prime number.\")\n",
        "        else:\n",
        "            print(f\"{num} is not a prime number.\")\n"
      ]
    },
    {
      "cell_type": "code",
      "execution_count": null,
      "metadata": {},
      "outputs": [],
      "source": [
        "# #Solution 2 using function\n",
        "# # List of numbers\n",
        "# num_list = [1, 2, 3, 4, 5, 6, 7, 8, 9, 10, 20, 30, 40, 50, 60, 70, 80, 90]\n",
        "\n",
        "# # Function to check if a number is prime\n",
        "# def is_prime(n):\n",
        "#     if n < 2:\n",
        "#         return False\n",
        "#     for i in range(2, int(n**0.5) + 1):  # Efficient up to √n\n",
        "#         if n % i == 0:\n",
        "#             return False\n",
        "#     return True\n",
        "\n",
        "# # Check and display results\n",
        "# for num in num_list:\n",
        "#     if is_prime(num):\n",
        "#         print(f\"{num} is a prime number.\")\n",
        "#     else:\n",
        "#         print(f\"{num} is not a prime number.\")\n"
      ]
    },
    {
      "cell_type": "markdown",
      "metadata": {},
      "source": [
        "### **Task**\n",
        "\n",
        "The dictionary below contains scores for 3 contestants in the quiz.  \n",
        "Using a for loop,\n",
        "* determine the total scores of each contestant.\n",
        "* display the maximum score for each contestant  \n",
        "* display the minimum score for each contestant.\n",
        "\n",
        "\n",
        "\n",
        "```\n",
        "scores = {\"Kofi\":[33,45,39,68,90],\n",
        "          \"Ama\":[59,70,80,68,88],\n",
        "          \"Akua\":[44,98,60,52,70]}\n",
        "```\n",
        "\n",
        "\n"
      ]
    },
    {
      "cell_type": "code",
      "execution_count": 111,
      "metadata": {},
      "outputs": [
        {
          "name": "stdout",
          "output_type": "stream",
          "text": [
            "Kofi's total score: 275\n",
            "Kofi's highest score: 90\n",
            "Kofi's lowest score: 33\n",
            "------------------------------\n",
            "Ama's total score: 365\n",
            "Ama's highest score: 88\n",
            "Ama's lowest score: 59\n",
            "------------------------------\n",
            "Akua's total score: 324\n",
            "Akua's highest score: 98\n",
            "Akua's lowest score: 44\n",
            "------------------------------\n"
          ]
        }
      ],
      "source": [
        "scores = {\"Kofi\": [33, 45, 39, 68, 90],\n",
        "    \"Ama\": [59, 70, 80, 68, 88],\n",
        "    \"Akua\": [44, 98, 60, 52, 70]}\n",
        "\n",
        "\n",
        "# Loop through each contestant with their scores\n",
        "for name, score_list in scores.items():\n",
        "    total = sum(score_list)\n",
        "    highest = max(score_list)\n",
        "    lowest = min(score_list)\n",
        "    \n",
        "    print(f\"{name}'s total score: {total}\")\n",
        "    print(f\"{name}'s highest score: {highest}\")\n",
        "    print(f\"{name}'s lowest score: {lowest}\")\n",
        "    print(\"-\" * 30)\n"
      ]
    },
    {
      "cell_type": "markdown",
      "metadata": {},
      "source": [
        "### **While Loops**  \n",
        "\n",
        "A `while` loop is used to repeat a block of code as long as a condition is true.\n",
        "\n",
        "```\n",
        "while condition:\n",
        "    # do something\n",
        "```\n",
        "\n"
      ]
    },
    {
      "cell_type": "code",
      "execution_count": null,
      "metadata": {},
      "outputs": [
        {
          "name": "stdout",
          "output_type": "stream",
          "text": [
            "Time is: 1\n",
            "Time is: 2\n",
            "Time is: 3\n",
            "Time is: 4\n",
            "Time is: 5\n",
            "Time is: 6\n"
          ]
        }
      ],
      "source": [
        "closing_time = 1\n",
        "\n",
        "while closing_time <= 6:\n",
        "    print(\"Time is:\", closing_time)\n",
        "    closing_time += 1  # add 1 each time\n"
      ]
    },
    {
      "cell_type": "markdown",
      "metadata": {},
      "source": [
        "* Check if a number is even or odd, only when it is less than 10\n"
      ]
    },
    {
      "cell_type": "code",
      "execution_count": null,
      "metadata": {},
      "outputs": [
        {
          "name": "stdout",
          "output_type": "stream",
          "text": [
            "2 is less than 10. Checking if it is even or odd...\n",
            "2 is an even number\n"
          ]
        }
      ],
      "source": [
        "num = int(input(\"Enter a number less than 10: \"))\n",
        "\n",
        "# Keep asking until the user inputs a number less than 10\n",
        "while num >= 10:\n",
        "    print(\"Number must be less than 10. Try again.\")\n",
        "    num = int(input(\"Enter a number less than 10: \"))\n",
        "\n",
        "\n",
        "\n",
        "# After user inputs number less than 10, the block below is executed\n",
        "print(f\"{num} is less than 10. Checking if it is even or odd...\")\n",
        "if num % 2 == 0:\n",
        "    print(f\"{num} is an even number\")\n",
        "else:\n",
        "    print(f\"The number {num} is odd\")\n"
      ]
    },
    {
      "cell_type": "markdown",
      "metadata": {},
      "source": [
        "#### **Trial**  "
      ]
    },
    {
      "cell_type": "markdown",
      "metadata": {},
      "source": [
        "- Using a **while loop**, write a program that prints out the integers `2, 5, 8, 11, 14, 17 and 20` in that order,   \n",
        "all on the same line."
      ]
    },
    {
      "cell_type": "code",
      "execution_count": null,
      "metadata": {},
      "outputs": [],
      "source": []
    },
    {
      "cell_type": "code",
      "execution_count": null,
      "metadata": {
        "id": "KCRuMmUyWEE_",
        "outputId": "8f4d46af-d003-443a-8460-4fd4ba2f5c9b"
      },
      "outputs": [
        {
          "name": "stdout",
          "output_type": "stream",
          "text": [
            "0\n",
            "1\n",
            "2\n",
            "3\n",
            "4\n",
            "We are done\n"
          ]
        }
      ],
      "source": [
        "i = 0\n",
        "\n",
        "while i < 5:\n",
        "    print(i)\n",
        "\n",
        "    i = i + 1\n",
        "\n",
        "print(\"We are done\")"
      ]
    },
    {
      "cell_type": "markdown",
      "metadata": {
        "id": "4KMZhXJFWEE_"
      },
      "source": [
        "Note that the `print(\"done\")` statement is not part of the `while` loop body because of the difference in indentation. \n",
        "Indentation is key in Python"
      ]
    },
    {
      "cell_type": "markdown",
      "metadata": {},
      "source": [
        "### **Part 3 begins after 5 mins**"
      ]
    },
    {
      "cell_type": "markdown",
      "metadata": {
        "id": "I_SaR1i7WEE_"
      },
      "source": [
        "## Functions"
      ]
    },
    {
      "cell_type": "markdown",
      "metadata": {
        "id": "cNjNN0scWEE_"
      },
      "source": [
        "- A function in Python is defined using the keyword `def`, followed by a function name, a signature within parentheses `()`, and a colon `:`. \n",
        "- `Docstrings` -- Documentation strings provide descriptions of the function and how to use them. Docstrings are accessed using the `help()` python function.\n",
        "\n",
        "Three types of functions in Python:-\n",
        "- Built-in function :- Python predefined functions that are readily available for use like min() , max() , sum() , print() etc.\n",
        "- User-Defined Functions:- Function that we define ourselves to perform a specific task.\n",
        "- Anonymous functions : Function that is defined without a name. Anonymous functions are also called as lambda functions. They are not declared with the def keyword\n"
      ]
    },
    {
      "cell_type": "markdown",
      "metadata": {},
      "source": [
        "The following code, with one additional level of indentation, is the function body."
      ]
    },
    {
      "cell_type": "code",
      "execution_count": 91,
      "metadata": {
        "id": "UoUwCMejWEE_"
      },
      "outputs": [],
      "source": [
        "def func0():\n",
        "    print(\"CAUC is holding its's 10th congregation\")\n",
        "    print(\"you are welcome\")\n",
        "    print(\"CAUC is holding its's 10th congregation\")\n",
        "    print(\"you are welcome\")\n",
        "    print(\"CAUC is holding its's 10th congregation\")\n",
        "    print(\"you are welcome\")\n",
        "    print(\"CAUC is holding its's 10th congregation\")\n",
        "    print(\"you are welcome\")\n",
        "    print(\"CAUC is holding its's 10th congregation\")\n",
        "    print(\"you are welcome\")"
      ]
    },
    {
      "cell_type": "code",
      "execution_count": 92,
      "metadata": {
        "id": "joT5Q-0YWEE_",
        "outputId": "16da2f92-306b-46a0-e619-c0377b6033b2"
      },
      "outputs": [
        {
          "name": "stdout",
          "output_type": "stream",
          "text": [
            "CAUC is holding its's 10th congregation\n",
            "you are welcome\n",
            "CAUC is holding its's 10th congregation\n",
            "you are welcome\n",
            "CAUC is holding its's 10th congregation\n",
            "you are welcome\n",
            "CAUC is holding its's 10th congregation\n",
            "you are welcome\n",
            "CAUC is holding its's 10th congregation\n",
            "you are welcome\n"
          ]
        }
      ],
      "source": [
        "func0()"
      ]
    },
    {
      "cell_type": "code",
      "execution_count": null,
      "metadata": {},
      "outputs": [],
      "source": [
        "def myfunc():\n",
        "    print(\"Hello Python Lovers\")\n"
      ]
    },
    {
      "cell_type": "code",
      "execution_count": null,
      "metadata": {},
      "outputs": [
        {
          "name": "stdout",
          "output_type": "stream",
          "text": [
            "Hello Python Lovers\n"
          ]
        }
      ],
      "source": [
        "myfunc()"
      ]
    },
    {
      "cell_type": "code",
      "execution_count": 93,
      "metadata": {},
      "outputs": [],
      "source": [
        "def details(name,userid,country): # Function to print User details\n",
        "    print('Name :- ', name)\n",
        "    print('User ID is :- ', userid)\n",
        "    print('Country :- ',country)\n"
      ]
    },
    {
      "cell_type": "code",
      "execution_count": null,
      "metadata": {},
      "outputs": [
        {
          "name": "stdout",
          "output_type": "stream",
          "text": [
            "Name :-  Matthew\n",
            "User ID is :-  mcobbinah\n",
            "Country :-  Ghana\n"
          ]
        }
      ],
      "source": [
        "details('Matthew' , 'mcobbinah' , 'Ghana')"
      ]
    },
    {
      "cell_type": "markdown",
      "metadata": {
        "id": "ytpAkUIMWEFA"
      },
      "source": [
        "Optionally, but highly recommended, we can define a so called \"docstring\", which is a description of the functions purpose and behavior. The docstring should follow directly after the function definition, before the code in the function body."
      ]
    },
    {
      "cell_type": "code",
      "execution_count": null,
      "metadata": {
        "id": "9aUCdBUXWEFA"
      },
      "outputs": [],
      "source": [
        "def func1(s):\n",
        "    \"\"\"\n",
        "    Print a string 's' and tell how many characters it has\n",
        "    \"\"\"\n",
        "\n",
        "    print(s + \" has \" + str(len(s)) + \" characters\")"
      ]
    },
    {
      "cell_type": "code",
      "execution_count": null,
      "metadata": {
        "id": "WkR5Qq_XWEFA",
        "outputId": "0480e874-06d4-4a1e-94f8-8019b0abfc36"
      },
      "outputs": [
        {
          "name": "stdout",
          "output_type": "stream",
          "text": [
            "Help on function func1 in module __main__:\n",
            "\n",
            "func1(s)\n",
            "    Print a string 's' and tell how many characters it has\n",
            "\n"
          ]
        }
      ],
      "source": [
        "help(func1)"
      ]
    },
    {
      "cell_type": "code",
      "execution_count": null,
      "metadata": {
        "id": "9borGwolWEFA",
        "outputId": "0e58d1db-d74d-46ab-f91c-7aab181ad5d0"
      },
      "outputs": [
        {
          "name": "stdout",
          "output_type": "stream",
          "text": [
            "test has 4 characters\n"
          ]
        }
      ],
      "source": [
        "func1(\"test\")"
      ]
    },
    {
      "cell_type": "markdown",
      "metadata": {
        "id": "8Ts-DldMWEFA"
      },
      "source": [
        "Functions that returns a value use the `return` keyword:"
      ]
    },
    {
      "cell_type": "code",
      "execution_count": null,
      "metadata": {
        "id": "iiDOReDcWEFA"
      },
      "outputs": [],
      "source": [
        "def square(x):\n",
        "    \"\"\"\n",
        "    Return the square of x.\n",
        "    \"\"\"\n",
        "    return x ** 2"
      ]
    },
    {
      "cell_type": "code",
      "execution_count": null,
      "metadata": {
        "id": "_HMYneHCWEFA",
        "outputId": "40a55715-6a75-4cdb-a92f-9638b4ff4956"
      },
      "outputs": [
        {
          "data": {
            "text/plain": [
              "16"
            ]
          },
          "execution_count": 106,
          "metadata": {},
          "output_type": "execute_result"
        }
      ],
      "source": [
        "square(4)"
      ]
    },
    {
      "cell_type": "code",
      "execution_count": null,
      "metadata": {},
      "outputs": [],
      "source": [
        "\n",
        "def fxn(x):\n",
        "    result = 2*x + 1\n",
        "    return result"
      ]
    },
    {
      "cell_type": "code",
      "execution_count": null,
      "metadata": {},
      "outputs": [
        {
          "data": {
            "text/plain": [
              "9"
            ]
          },
          "execution_count": 57,
          "metadata": {},
          "output_type": "execute_result"
        }
      ],
      "source": [
        "fxn(4)"
      ]
    },
    {
      "cell_type": "markdown",
      "metadata": {},
      "source": [
        "#### **6.1.2 Inputs from a User**  \n",
        "\n",
        "- The `input()` function is used to receive an input from the user, ready to be evaluated.  \n",
        "\n",
        "- The `input()` function always returns a string"
      ]
    },
    {
      "cell_type": "code",
      "execution_count": 95,
      "metadata": {},
      "outputs": [
        {
          "name": "stdout",
          "output_type": "stream",
          "text": [
            "David\n",
            "<class 'str'>\n"
          ]
        }
      ],
      "source": [
        "# example\n",
        "name = input(\"Enter your name: \")\n",
        "print(name)\n",
        "print(type(name))"
      ]
    },
    {
      "cell_type": "code",
      "execution_count": 97,
      "metadata": {},
      "outputs": [],
      "source": [
        "# greeting function for course members\n",
        "def crush_course():\n",
        "  '''\n",
        "  This program greets members in this course\n",
        "  '''\n",
        "  student_name = input(\"Enter your name: \")\n",
        "  Program_Name = input(\"Enter program name\")\n",
        "  Tutor = \"Matthew\"\n",
        "\n",
        "  print(f\"Welcome {student_name}, to the {Program_Name} crush course by {Tutor} et al.,(2025)\")"
      ]
    },
    {
      "cell_type": "code",
      "execution_count": 99,
      "metadata": {},
      "outputs": [
        {
          "data": {
            "text/plain": [
              "function"
            ]
          },
          "execution_count": 99,
          "metadata": {},
          "output_type": "execute_result"
        }
      ],
      "source": [
        "type(crush_course)"
      ]
    },
    {
      "cell_type": "code",
      "execution_count": 98,
      "metadata": {},
      "outputs": [
        {
          "name": "stdout",
          "output_type": "stream",
          "text": [
            "Help on function crush_course in module __main__:\n",
            "\n",
            "crush_course()\n",
            "    This program greets members in this course\n",
            "\n"
          ]
        }
      ],
      "source": [
        "help(crush_course)"
      ]
    },
    {
      "cell_type": "code",
      "execution_count": 101,
      "metadata": {},
      "outputs": [
        {
          "name": "stdout",
          "output_type": "stream",
          "text": [
            "Welcome David, to the Bsc Info crush course by Matthew et al.,(2025)\n"
          ]
        }
      ],
      "source": [
        "crush_course()  # calls the function"
      ]
    },
    {
      "cell_type": "markdown",
      "metadata": {},
      "source": [
        "#### **Exploring Positional Arguments**"
      ]
    },
    {
      "cell_type": "code",
      "execution_count": null,
      "metadata": {},
      "outputs": [],
      "source": [
        "# bmi calculator\n",
        "def bmi(weight, height):\n",
        "  return weight / height**2"
      ]
    },
    {
      "cell_type": "code",
      "execution_count": null,
      "metadata": {},
      "outputs": [
        {
          "data": {
            "text/plain": [
              "17.75568181818182"
            ]
          },
          "execution_count": 81,
          "metadata": {},
          "output_type": "execute_result"
        }
      ],
      "source": [
        "bmi(55,1.76)"
      ]
    },
    {
      "cell_type": "code",
      "execution_count": null,
      "metadata": {},
      "outputs": [
        {
          "data": {
            "text/plain": [
              "0.0005818181818181818"
            ]
          },
          "execution_count": 82,
          "metadata": {},
          "output_type": "execute_result"
        }
      ],
      "source": [
        "bmi(1.76,55)"
      ]
    },
    {
      "cell_type": "markdown",
      "metadata": {},
      "source": [
        "*The concept of positional argument reveals that the position of arguments placed in a function is important and can affect the output/result returned.*"
      ]
    },
    {
      "cell_type": "markdown",
      "metadata": {},
      "source": [
        "## *args\n",
        "- When we are not sure about the number of arguments being passed to a function then we can use *args as function parameter.\n",
        "- *args allow us to pass the variable number of Non Keyword Arguments to function.\n",
        "- We can simply use an asterisk * before the parameter name to pass variable length arguments.\n",
        "- The arguments are always passed as a tuple.\n",
        "- We can rename it to anything as long as it is preceded by a single asterisk (*). It's best practice to keep naming it args to make it immediately recognizable.\n",
        "\n",
        "## **kwargs\n",
        "- **kwargs allows us to pass the variable number of Keyword Arguments to the function.\n",
        "- We can simply use an double asterisk ** before the parameter name to pass variable length arguments.\n",
        "- The arguments are passed as a dictionary.\n",
        "- We can rename it to anything as long as it is preceded by a double asterisk (**). It's best practice to keep naming it kwargs to make it immediately recognizable."
      ]
    },
    {
      "cell_type": "code",
      "execution_count": null,
      "metadata": {},
      "outputs": [],
      "source": [
        "def add(*args):\n",
        "    return sum(args)\n",
        "\n"
      ]
    },
    {
      "cell_type": "code",
      "execution_count": null,
      "metadata": {},
      "outputs": [
        {
          "name": "stdout",
          "output_type": "stream",
          "text": [
            "6\n",
            "10\n",
            "15\n",
            "21\n",
            "28\n"
          ]
        }
      ],
      "source": [
        "print(add(1,2,3))\n",
        "print(add(1,2,3,4)) # *args will take dynamic argument list. So add() function will perform addition of any number of ar\n",
        "print(add(1,2,3,4,5))\n",
        "print(add(1,2,3,4,5,6))\n",
        "print(add(1,2,3,4,5,6,7))"
      ]
    },
    {
      "cell_type": "code",
      "execution_count": null,
      "metadata": {},
      "outputs": [],
      "source": [
        "def UserDetails(**kwargs):\n",
        "    print(kwargs)\n"
      ]
    },
    {
      "cell_type": "code",
      "execution_count": null,
      "metadata": {},
      "outputs": [
        {
          "name": "stdout",
          "output_type": "stream",
          "text": [
            "{'Name': 'Matthew', 'ID': 989, 'Pincode': 2333, 'Age': 21, 'Country': 'Ghana', 'Language': 'Fanti'}\n"
          ]
        }
      ],
      "source": [
        "UserDetails(Name='Matthew' , ID=989 , Pincode=2333 , Age= 21 , Country= 'Ghana' , Language= 'Fanti')"
      ]
    },
    {
      "attachments": {
        "image.png": {
          "image/png": "[encoded data removed]"
        }
      },
      "cell_type": "markdown",
      "metadata": {},
      "source": [
        "![image.png](attachment:image.png)"
      ]
    },
    {
      "cell_type": "markdown",
      "metadata": {},
      "source": [
        "Example when using all"
      ]
    },
    {
      "cell_type": "code",
      "execution_count": null,
      "metadata": {},
      "outputs": [],
      "source": [
        "def UserDetails(licenseNo, *args , phoneNo=0, **kwargs): # Using all four arguments types. CORRECT ORDER\n",
        "    print('Nothing')"
      ]
    },
    {
      "cell_type": "code",
      "execution_count": null,
      "metadata": {},
      "outputs": [],
      "source": [
        "# def UserDetails(licenseNo, *args , phoneNo=0 , **kwargs): # Using all four arguments types\n",
        "#     print('License No :- ', licenseNo)\n",
        "#     j=''\n",
        "#     for i in args:\n",
        "#         j = j+i\n",
        "#     print('Full Name :-',j)\n",
        "#     print('Phone Number:- ',phoneNo)\n",
        "#     for key,val in kwargs.items():\n",
        "#         print(\"{} :- {}\".format(key,val))\n",
        "\n"
      ]
    },
    {
      "cell_type": "code",
      "execution_count": null,
      "metadata": {},
      "outputs": [],
      "source": [
        "# name = ['Asif' , ' ' , 'Ali' , ' ','Bhat']\n",
        "# mydict = {'Name': 'Asif', 'ID': 7412, 'Pincode': 41102, 'Age': 33, 'Country': 'India', 'Language': 'Hindi'}\n",
        "# UserDetails('547' , *name , phoneNo=547900989,**mydict )"
      ]
    },
    {
      "cell_type": "markdown",
      "metadata": {},
      "source": [
        "#### **Task**"
      ]
    },
    {
      "cell_type": "markdown",
      "metadata": {},
      "source": [
        "- Create a simple calculator function that performs the basic operations: addition: `+`, subtraction ` -`, multiplication `×` and division `/`.  \n",
        "\n",
        "- Your function should return **\"invalid operator\"** if any other operator is used."
      ]
    },
    {
      "cell_type": "code",
      "execution_count": null,
      "metadata": {},
      "outputs": [],
      "source": [
        "# YourSolution\n",
        "  "
      ]
    },
    {
      "cell_type": "code",
      "execution_count": null,
      "metadata": {},
      "outputs": [],
      "source": [
        "# #MySolution\n",
        "# def simple_calculator(a, b, operator):\n",
        "#     if operator == '+':\n",
        "#         return a + b\n",
        "#     elif operator == '-':\n",
        "#         return a - b\n",
        "#     elif operator == '*':\n",
        "#         return a * b\n",
        "#     elif operator == '/':\n",
        "#         if b != 0:\n",
        "#             return a / b\n",
        "#         else:\n",
        "#             return \"division by zero error\"\n",
        "#     else:\n",
        "#         return \"invalid operator\"\n"
      ]
    },
    {
      "cell_type": "code",
      "execution_count": null,
      "metadata": {},
      "outputs": [],
      "source": [
        "# print(simple_calculator(2, 7, '+'))  # Output: 15\n",
        "# print(simple_calculator(2, 7, '-'))  # Output: 5\n",
        "# print(simple_calculator(2, 7, '*'))  # Output: 50\n",
        "# print(simple_calculator(2, 7, '/'))  # Output: 2.0\n",
        "# print(simple_calculator(2, 7, '^'))  # Output: invalid operator\n"
      ]
    },
    {
      "cell_type": "markdown",
      "metadata": {},
      "source": [
        "### **Project 1**"
      ]
    },
    {
      "cell_type": "markdown",
      "metadata": {},
      "source": [
        "### **Troski Uber**  \n",
        "\n",
        "In Kumasi, trotro (troski) fares vary based on distance, destination and sometimes, road conditions. You are required to help design a small system  \n",
        "for a troki startup seeking to reshape troski operations in Kumasi.  \n",
        "The startup plans to introduce autonomous public transport services, where users/passengers book rides in advance.\n",
        "\n",
        "System Requirements:  \n",
        "Designed for the users/passengers, the System should.  \n",
        "- Receive the user's name and display a wlecome message\n",
        "- Show a list of available destinations with their fares  \n",
        "- Take the user's destination and number of passengers\n",
        "- Calculate the total fare for the user  \n",
        "- Apply discounts for students and Children  \n",
        "- Resturn a final summary of the trip"
      ]
    },
    {
      "cell_type": "code",
      "execution_count": null,
      "metadata": {},
      "outputs": [],
      "source": [
        "# Your code here\n",
        "\n",
        "\n"
      ]
    },
    {
      "cell_type": "markdown",
      "metadata": {},
      "source": [
        "### **Project 2**"
      ]
    },
    {
      "cell_type": "markdown",
      "metadata": {},
      "source": [
        "### **My Chop Bar Menu Simulator**  \n",
        "\n",
        "Create a chop bar menu system that displays the available menu, takes orders of customers and prints out the total bil."
      ]
    },
    {
      "cell_type": "code",
      "execution_count": null,
      "metadata": {},
      "outputs": [],
      "source": [
        "# Your code here\n",
        "\n"
      ]
    },
    {
      "cell_type": "markdown",
      "metadata": {
        "id": "SFBiUlrYWEFF"
      },
      "source": [
        "## Classes"
      ]
    },
    {
      "cell_type": "markdown",
      "metadata": {
        "id": "a-qSXnNEWEFF"
      },
      "source": [
        "Classes are the key features of object-oriented programming. A class is a structure for representing an object and the operations that can be performed on the object.\n",
        "\n",
        "In Python a class can contain *attributes* (variables) and *methods* (functions).\n",
        "\n",
        "A class is defined almost like a function, but using the `class` keyword, and the class definition usually contains a number of class method definitions (a function in a class).\n",
        "\n",
        "* Each class method should have an argument `self` as its first argument. This object is a self-reference.\n",
        "\n",
        "* Some class method names have special meaning, for example:\n",
        "\n",
        "    * `__init__`: The name of the method that is invoked when the object is first created.\n",
        "    * `__str__` : A method that is invoked when a simple string representation of the class is needed, as for example when printed.\n",
        "    * There are many more, see http://docs.python.org/2/reference/datamodel.html#special-method-names"
      ]
    },
    {
      "cell_type": "code",
      "execution_count": null,
      "metadata": {
        "id": "PmijUCYfWEFF"
      },
      "outputs": [],
      "source": [
        "# class Point:\n",
        "#     \"\"\"\n",
        "#     Simple class for representing a point in a Cartesian coordinate system.\n",
        "#     \"\"\"\n",
        "\n",
        "#     def __init__(self, x, y):\n",
        "#         \"\"\"\n",
        "#         Create a new Point at x, y.\n",
        "#         \"\"\"\n",
        "#         self.x = x\n",
        "#         self.y = y\n",
        "\n",
        "#     def translate(self, dx, dy):\n",
        "#         \"\"\"\n",
        "#         Translate the point by dx and dy in the x and y direction.\n",
        "#         \"\"\"\n",
        "#         self.x += dx\n",
        "#         self.y += dy\n",
        "\n",
        "#     def __str__(self):\n",
        "#         return(\"Point at [%f, %f]\" % (self.x, self.y))"
      ]
    },
    {
      "cell_type": "markdown",
      "metadata": {
        "id": "xMRokj0WWEFG"
      },
      "source": [
        "To create a new instance of a class:"
      ]
    },
    {
      "cell_type": "code",
      "execution_count": null,
      "metadata": {
        "id": "J-7pbtQzWEFG",
        "outputId": "d9a42a84-3c1e-4be8-aa20-3a76dfae64e7"
      },
      "outputs": [],
      "source": [
        "# p1 = Point(0, 0) # this will invoke the __init__ method in the Point class\n",
        "\n",
        "# print(p1)         # this will invoke the __str__ method"
      ]
    },
    {
      "cell_type": "markdown",
      "metadata": {
        "id": "wmL2oDmeWEFG"
      },
      "source": [
        "To invoke a class method in the class instance `p`:"
      ]
    },
    {
      "cell_type": "code",
      "execution_count": null,
      "metadata": {
        "id": "gnV5pH2vWEFG",
        "outputId": "e40d6158-e15f-401c-e99a-778e15c78ae1"
      },
      "outputs": [],
      "source": [
        "# p2 = Point(1, 1)\n",
        "\n",
        "# p1.translate(0.25, 1.5)\n",
        "\n",
        "# print(p1)\n",
        "# print(p2)"
      ]
    },
    {
      "cell_type": "markdown",
      "metadata": {
        "id": "35KwKUXaWEFG"
      },
      "source": [
        "Note that calling class methods can modify the state of that particular class instance, but does not effect other class instances or any global variables.\n",
        "\n",
        "That is one of the nice things about object-oriented design: code such as functions and related variables are grouped in separate and independent entities."
      ]
    },
    {
      "cell_type": "markdown",
      "metadata": {
        "id": "iYd3NqqAWEFG"
      },
      "source": [
        "## Modules"
      ]
    },
    {
      "cell_type": "markdown",
      "metadata": {
        "id": "RADSwiVfWEFH"
      },
      "source": [
        "One of the most important concepts in good programming is to reuse code and avoid repetitions.\n",
        "\n",
        "The idea is to write functions and classes with a well-defined purpose and scope, and reuse these instead of repeating similar code in different part of a program (modular programming). The result is usually that readability and maintainability of a program is greatly improved. What this means in practice is that our programs have fewer bugs, are easier to extend and debug/troubleshoot.\n",
        "\n",
        "Python supports modular programming at different levels. Functions and classes are examples of tools for low-level modular programming. Python modules are a higher-level modular programming construct, where we can collect related variables, functions and classes in a module. A python module is defined in a python file (with file-ending `.py`), and it can be made accessible to other Python modules and programs using the `import` statement.\n",
        "\n",
        "Consider the following example: the file `mymodule.py` contains simple example implementations of a variable, function and a class:"
      ]
    },
    {
      "cell_type": "code",
      "execution_count": null,
      "metadata": {
        "id": "oX3z4-43WEFH",
        "outputId": "059dc653-4b39-4e2c-8743-d9b245cd9dd6"
      },
      "outputs": [
        {
          "name": "stdout",
          "output_type": "stream",
          "text": [
            "Writing mymodule.py\n"
          ]
        }
      ],
      "source": [
        "# %%file mymodule.py\n",
        "# \"\"\"\n",
        "# Example of a python module. Contains a variable called my_variable,\n",
        "# a function called my_function, and a class called MyClass.\n",
        "# \"\"\"\n",
        "\n",
        "# my_variable = 0\n",
        "\n",
        "# def my_function():\n",
        "#     \"\"\"\n",
        "#     Example function\n",
        "#     \"\"\"\n",
        "#     return my_variable\n",
        "\n",
        "# class MyClass:\n",
        "#     \"\"\"\n",
        "#     Example class.\n",
        "#     \"\"\"\n",
        "\n",
        "#     def __init__(self):\n",
        "#         self.variable = my_variable\n",
        "\n",
        "#     def set_variable(self, new_value):\n",
        "#         \"\"\"\n",
        "#         Set self.variable to a new value\n",
        "#         \"\"\"\n",
        "#         self.variable = new_value\n",
        "\n",
        "#     def get_variable(self):\n",
        "#         return self.variable"
      ]
    },
    {
      "cell_type": "markdown",
      "metadata": {
        "id": "7tlwTO6DWEFH"
      },
      "source": [
        "We can import the module `mymodule` into our Python program using `import`:"
      ]
    },
    {
      "cell_type": "code",
      "execution_count": null,
      "metadata": {
        "id": "GKPcFBzrWEFH"
      },
      "outputs": [],
      "source": [
        "import mymodule"
      ]
    },
    {
      "cell_type": "markdown",
      "metadata": {
        "id": "aiZO2z9cWEFH"
      },
      "source": [
        "Use `help(module)` to get a summary of what the module provides:"
      ]
    },
    {
      "cell_type": "code",
      "execution_count": null,
      "metadata": {
        "id": "O4XWRnjdWEFH",
        "outputId": "e4386d69-215c-4433-a295-48716907cd49"
      },
      "outputs": [],
      "source": [
        "# help(mymodule)"
      ]
    },
    {
      "cell_type": "code",
      "execution_count": null,
      "metadata": {
        "id": "fQITN_xjWEFH",
        "outputId": "f35f28d4-3d1c-4908-de54-75cd7ed3370c"
      },
      "outputs": [
        {
          "data": {
            "text/plain": [
              "0"
            ]
          },
          "execution_count": 124,
          "metadata": {},
          "output_type": "execute_result"
        }
      ],
      "source": [
        "# mymodule.my_variable"
      ]
    },
    {
      "cell_type": "code",
      "execution_count": null,
      "metadata": {
        "id": "piiJXHgOWEFI",
        "outputId": "f637cdb1-fe65-4378-beb9-104767494d8c"
      },
      "outputs": [
        {
          "data": {
            "text/plain": [
              "0"
            ]
          },
          "execution_count": 125,
          "metadata": {},
          "output_type": "execute_result"
        }
      ],
      "source": [
        "# mymodule.my_function()"
      ]
    },
    {
      "cell_type": "code",
      "execution_count": null,
      "metadata": {
        "id": "kd1xvNI4WEFI",
        "outputId": "bf491e04-9354-4aa3-f399-e6a0643f20ba"
      },
      "outputs": [
        {
          "data": {
            "text/plain": [
              "10"
            ]
          },
          "execution_count": 126,
          "metadata": {},
          "output_type": "execute_result"
        }
      ],
      "source": [
        "# my_class = mymodule.MyClass()\n",
        "# my_class.set_variable(10)\n",
        "# my_class.get_variable()"
      ]
    },
    {
      "cell_type": "markdown",
      "metadata": {
        "id": "PIVpVrKgWEFI"
      },
      "source": [
        "If we make changes to the code in `mymodule.py`, we need to reload it using `reload`:"
      ]
    },
    {
      "cell_type": "code",
      "execution_count": null,
      "metadata": {
        "id": "9rUFXp5mWEFI",
        "outputId": "ce814c0a-9603-465e-8a66-36d4cfe6cbc5"
      },
      "outputs": [],
      "source": [
        "# reload(mymodule)  # works only in python 2"
      ]
    },
    {
      "cell_type": "markdown",
      "metadata": {
        "id": "5qpdZR1NWEFI"
      },
      "source": [
        "## Exceptions"
      ]
    },
    {
      "cell_type": "markdown",
      "metadata": {
        "id": "ebUiDkk4WEFJ"
      },
      "source": [
        "In Python errors are managed with a special language construct called \"Exceptions\". When errors occur exceptions can be raised, which interrupts the normal program flow and fallback to somewhere else in the code where the closest try-except statement is defined."
      ]
    },
    {
      "cell_type": "markdown",
      "metadata": {
        "id": "IR0OJB1IWEFJ"
      },
      "source": [
        "To generate an exception we can use the `raise` statement, which takes an argument that must be an instance of the class `BaseException` or a class derived from it."
      ]
    },
    {
      "cell_type": "code",
      "execution_count": null,
      "metadata": {
        "id": "gngXwYvfWEFJ",
        "outputId": "c1dffc02-6cc3-41e4-fb24-e9a66ba2a4dc"
      },
      "outputs": [
        {
          "ename": "Exception",
          "evalue": "description of the error",
          "output_type": "error",
          "traceback": [
            "\u001b[0;31m---------------------------------------------------------------------------\u001b[0m",
            "\u001b[0;31mException\u001b[0m                                 Traceback (most recent call last)",
            "\u001b[0;32m<ipython-input-128-8f47ba831d5a>\u001b[0m in \u001b[0;36m<module>\u001b[0;34m()\u001b[0m\n\u001b[0;32m----> 1\u001b[0;31m \u001b[0;32mraise\u001b[0m \u001b[0mException\u001b[0m\u001b[0;34m(\u001b[0m\u001b[0;34m\"description of the error\"\u001b[0m\u001b[0;34m)\u001b[0m\u001b[0;34m\u001b[0m\u001b[0m\n\u001b[0m",
            "\u001b[0;31mException\u001b[0m: description of the error"
          ]
        }
      ],
      "source": [
        "raise Exception(\"description of the error\")"
      ]
    },
    {
      "cell_type": "markdown",
      "metadata": {
        "id": "DOCW5WUAWEFJ"
      },
      "source": [
        "A typical use of exceptions is to abort functions when some error condition occurs, for example:\n",
        "\n",
        "    def my_function(arguments):\n",
        "    \n",
        "        if not verify(arguments):\n",
        "            raise Exception(\"Invalid arguments\")\n",
        "        \n",
        "        # rest of the code goes here"
      ]
    },
    {
      "cell_type": "markdown",
      "metadata": {
        "id": "jwRzBHBMWEFJ"
      },
      "source": [
        "To gracefully catch errors that are generated by functions and class methods, or by the Python interpreter itself, use the `try` and  `except` statements:\n",
        "\n",
        "    try:\n",
        "        # normal code goes here\n",
        "    except:\n",
        "        # code for error handling goes here\n",
        "        # this code is not executed unless the code\n",
        "        # above generated an error\n",
        "\n",
        "For example:"
      ]
    },
    {
      "cell_type": "code",
      "execution_count": null,
      "metadata": {
        "id": "WlV-p0xvWEFJ",
        "outputId": "accb2242-b301-44c8-e3ed-1942a861677e"
      },
      "outputs": [
        {
          "name": "stdout",
          "output_type": "stream",
          "text": [
            "test\n",
            "Caught an exception\n"
          ]
        }
      ],
      "source": [
        "try:\n",
        "    print(\"test\")\n",
        "    # generate an error: the variable test is not defined\n",
        "    print(test)\n",
        "except:\n",
        "    print(\"Caught an exception\")"
      ]
    },
    {
      "cell_type": "markdown",
      "metadata": {
        "id": "_PUSPP0eWEFJ"
      },
      "source": [
        "To get information about the error, we can access the `Exception` class instance that describes the exception by using for example:\n",
        "\n",
        "    except Exception as e:"
      ]
    },
    {
      "cell_type": "code",
      "execution_count": null,
      "metadata": {
        "id": "Ycsgp_dXWEFJ",
        "outputId": "a511023b-148b-4ca9-e830-66602bc19e76"
      },
      "outputs": [
        {
          "name": "stdout",
          "output_type": "stream",
          "text": [
            "test\n",
            "Caught an exception:name 'test' is not defined\n"
          ]
        }
      ],
      "source": [
        "try:\n",
        "    print(\"test\")\n",
        "    # generate an error: the variable test is not defined\n",
        "    print(test)\n",
        "except Exception as e:\n",
        "    print(\"Caught an exception:\" + str(e))"
      ]
    },
    {
      "cell_type": "markdown",
      "metadata": {
        "id": "wzYu7-BYWEFK"
      },
      "source": [
        "## Further reading"
      ]
    },
    {
      "cell_type": "markdown",
      "metadata": {
        "id": "BOGb7sWJWEFK"
      },
      "source": [
        "* http://www.python.org - The official web page of the Python programming language.\n",
        "* http://www.python.org/dev/peps/pep-0008 - Style guide for Python programming. Highly recommended.\n",
        "* http://www.greenteapress.com/thinkpython/ - A free book on Python programming.\n",
        "* [Python Essential Reference](http://www.amazon.com/Python-Essential-Reference-4th-Edition/dp/0672329786) - A good reference book on Python programming.\n",
        "* https://www.w3schools.com/python/ - A well known portal for learning most programming languages, inclusing python"
      ]
    },
    {
      "cell_type": "markdown",
      "metadata": {
        "id": "vA0AbwUUWEFK"
      },
      "source": [
        "## Versions"
      ]
    },
    {
      "cell_type": "code",
      "execution_count": null,
      "metadata": {
        "id": "Fv179AzeWEFK",
        "outputId": "2a7df518-c3eb-43f3-c0e3-9835c2b049f3"
      },
      "outputs": [
        {
          "data": {
            "application/json": {
              "Software versions": [
                {
                  "module": "Python",
                  "version": "2.7.10 64bit [GCC 4.2.1 (Apple Inc. build 5577)]"
                },
                {
                  "module": "IPython",
                  "version": "3.2.1"
                },
                {
                  "module": "OS",
                  "version": "Darwin 14.1.0 x86_64 i386 64bit"
                }
              ]
            },
            "text/html": [
              "<table><tr><th>Software</th><th>Version</th></tr><tr><td>Python</td><td>2.7.10 64bit [GCC 4.2.1 (Apple Inc. build 5577)]</td></tr><tr><td>IPython</td><td>3.2.1</td></tr><tr><td>OS</td><td>Darwin 14.1.0 x86_64 i386 64bit</td></tr><tr><td colspan='2'>Sat Aug 15 10:51:55 2015 JST</td></tr></table>"
            ],
            "text/latex": [
              "\\begin{tabular}{|l|l|}\\hline\n",
              "{\\bf Software} & {\\bf Version} \\\\ \\hline\\hline\n",
              "Python & 2.7.10 64bit [GCC 4.2.1 (Apple Inc. build 5577)] \\\\ \\hline\n",
              "IPython & 3.2.1 \\\\ \\hline\n",
              "OS & Darwin 14.1.0 x86\\_64 i386 64bit \\\\ \\hline\n",
              "\\hline \\multicolumn{2}{|l|}{Sat Aug 15 10:51:55 2015 JST} \\\\ \\hline\n",
              "\\end{tabular}\n"
            ],
            "text/plain": [
              "Software versions\n",
              "Python 2.7.10 64bit [GCC 4.2.1 (Apple Inc. build 5577)]\n",
              "IPython 3.2.1\n",
              "OS Darwin 14.1.0 x86_64 i386 64bit\n",
              "Sat Aug 15 10:51:55 2015 JST"
            ]
          },
          "execution_count": 131,
          "metadata": {},
          "output_type": "execute_result"
        }
      ],
      "source": [
        "%load_ext version_information\n",
        "\n",
        "%version_information"
      ]
    },
    {
      "cell_type": "markdown",
      "metadata": {},
      "source": [
        "## **Credits to the following sources:**\n",
        "- GDSS' IndabaX2025, Intro to Python Track\n",
        "- Musah Ali Ibrahim\n",
        "- Asif Bhat"
      ]
    }
  ],
  "metadata": {
    "colab": {
      "provenance": []
    },
    "kernelspec": {
      "display_name": ".venv",
      "language": "python",
      "name": "python3"
    },
    "language_info": {
      "codemirror_mode": {
        "name": "ipython",
        "version": 3
      },
      "file_extension": ".py",
      "mimetype": "text/x-python",
      "name": "python",
      "nbconvert_exporter": "python",
      "pygments_lexer": "ipython3",
      "version": "3.11.0"
    }
  },
  "nbformat": 4,
  "nbformat_minor": 0
}
